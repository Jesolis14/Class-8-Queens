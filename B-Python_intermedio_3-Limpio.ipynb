{
 "cells": [
  {
   "cell_type": "markdown",
   "id": "c24687f8-3f8c-4ef3-9f52-8f13ad651479",
   "metadata": {},
   "source": [
    "# ¡DETENTE, LEE ESTO!\n",
    "\n",
    "La idea detrás de este tema es practicar el modelado orientado a objetos en Python de un problema pobremente especificado que utilice datos.\n",
    "\n",
    "Esta libreta está diseñada para discutir en el salón de clases tres aspectos importantes del modelado:\n",
    "a. ¿Qué queremos modelar?\n",
    "b. ¿Cómo lo queremos modelar?\n",
    "c. ¿Por qué lo queremos modelar así?\n",
    "\n",
    "No hay respuestas universales y óptimas, y el chiste es discutirlo en un problema que no sea tan de juguete, o al menos que no tenga respuestas triviales a estas preguntas anteriores.\n",
    "\n",
    "Los códigos presentados aquí tienen problemas, es parte de la práctica que intento realicemos de forma colectiva.\n",
    "\n",
    "Al final de la libreta viene la tarea."
   ]
  },
  {
   "cell_type": "markdown",
   "id": "cfb3f693-c275-47f5-95f2-d771d25a418d",
   "metadata": {},
   "source": [
    "# Modelemos un problema"
   ]
  },
  {
   "cell_type": "code",
   "execution_count": null,
   "id": "6ef9ed0c-423e-45c4-8ecc-774125c2b493",
   "metadata": {},
   "outputs": [],
   "source": [
    "class Problem:\n",
    "    \"\"\"Esta es una clase abstracta para un problema.\n",
    "    No se supone que debamos crear objetos de esta\n",
    "    clase directamente. La idea es que otras clases\n",
    "    hereden de esta para crear clases de problemas\n",
    "    más especeificos.\"\"\"\n",
    "    \n",
    "    def __init__(self, initial, goal=None):\n",
    "        \"\"\"Esta definición es un método, es especial\n",
    "        porque comienza y termina con doble piso.\n",
    "        En Python, el método __init__ es utilizado\n",
    "        para construir objetos de la clase.\n",
    "        En este y el resto de los métodos, el primer\n",
    "        parámetro es self, y nos permite referirnos\n",
    "        al objeto sobre el cuál el método es invocado.\"\"\"\n",
    "        self.initial = initial\n",
    "        self.goal = goal\n",
    "    \n",
    "    def actions(self, state):\n",
    "        \"\"\"Un problema contiene un estado inicial y\n",
    "        quizá una meta en particular. El método actions\n",
    "        debe regresar las acciones que se pueden tomar\n",
    "        en el estado dado. El resultado usualmente es\n",
    "        una lista, pero si debes regresar muchas acciones,\n",
    "        considera usar yield para generarlas una a la vez.\"\"\"\n",
    "        raise NotImplementedError\n",
    "    \n",
    "    def result(self, state, action):\n",
    "        \"\"\"El método anterior, al igual que este, tiene una\n",
    "        implementación trivial. Simplemente señalamos un\n",
    "        error que indica que no hay una implementación\n",
    "        para el método. En una implementación de este método,\n",
    "        debemos regresar el estado al que llegamos después\n",
    "        de ejecutar la acción dada en el estado dado.\n",
    "        La acción debe ser una calculada por\n",
    "        self.actions(state).\"\"\"\n",
    "        raise NotImplementedError\n",
    "    \n",
    "    def goal_test(self, state):\n",
    "        \"\"\"De seguro ya te diste cuenta que todos estos\n",
    "        métodos son muy generales y poco específicos.\n",
    "        ¿Qué forma tienen los estados?\n",
    "        ¿Qué son las acciones?\n",
    "        ¿Qué es una meta?\n",
    "        Este método regresa True si el estado dado es una\n",
    "        meta. Por defecto se compara el estado dado con\n",
    "        self.goal o verifica que el estado dado sea\n",
    "        elemento de self.goal en caso de ser lista.\"\"\"\n",
    "        if isinstance(self.goal, list):\n",
    "            return any(x is state for x in self.goal)\n",
    "        return state == self.goal\n",
    "    \n",
    "    def path_cost(self, c, state1, action, state2):\n",
    "        \"\"\"El método anterior si tenía una implementación útil,\n",
    "        sigue siendo general, pero podemos pensar que en muchos\n",
    "        problemas, si un estado es igual a la meta, entonces hemos\n",
    "        llegado a la meta. El método path_cost también incluye una\n",
    "        implementación: Se considera que llegar al estado 1 tiene\n",
    "        un costo c. Regresa el costo de un camino de solución que\n",
    "        llega al estado 2 desde estado 1 por medio de la acción dada.\"\"\"\n",
    "        return c + 1\n",
    "    \n",
    "    def value(self, state):\n",
    "        \"\"\"En distintos problemas, cada estado tiene un valor asociado.\n",
    "        Este método sirve para obtener este valor.\"\"\"\n",
    "        raise NotImplementedError"
   ]
  },
  {
   "cell_type": "markdown",
   "id": "1ad9f26d-c90a-4728-9038-e0068fcb25f3",
   "metadata": {},
   "source": [
    "En el ejemplo anterior podemos observar distintos aspectos de la programación orientada a objetos. \n",
    "\n",
    "Primero, observemos que un problema puede ser especificado a partir de un estado inicial y un(os) estado(s) objetivo(s). Cuando se trabajan con objetos que son instancias de esta clase, podremos consultar su estado inicial y su(s) objetivo(s), estos valores particulares viven **dentro** del objeto y forman parte de su identidad.\n",
    "\n",
    "Al crear un objeto de una clase, se crea un nuevo espacio de nombres, por lo tanto si `x` y `y` son dos problemas distintos, nos referimos a sus estados iniciales de la misma forma `x.initial` y `y.initial`.\n",
    "\n",
    "Segundo, observamos que una clase no solo nos informa sobre los nombres que conforman la estructura de un objeto problema. Considera los siguientes incisos:\n",
    "- En *este* estado, ¿Qué acciones puedo realizar? `Problem.actions`\n",
    "- Si estoy en *este* estado y realizo *esta* acción, ¿A qué estado llego? `Problem.result`\n",
    "- Me encuentro en *este* estado, ¿Ya llegué a la meta? `Problem.goal_test`\n",
    "- Fue *así* de costoso llegar a *este* estado, si realizo *esta* acción y llego a *este otro* estado, ¿Qué tan costoso será? `Problem.path_cost`\n",
    "\n",
    "Estos métodos nos proveen todo un vocabulario para comunicar ideas, razonar y eventualmente resolver problemas.\n",
    "\n",
    "Tercero, la orientación a objetos nos permite *modelar* ciertos problemas identificando qué tienen en común, qué tienen diferente, e incluso si un problema es parte de otro.\n",
    "\n",
    "La idea de este paradigma es construir tus programas como objetos relacionados entre sí. Estos objetos se podrán comunicar a partir de sus métodos y estos serán cuidadosamente diseñados para contemplar las necesidades de la mayoría de los objetivos específicos de nuestro programa."
   ]
  },
  {
   "cell_type": "code",
   "execution_count": null,
   "id": "ff26e0d9-2f1d-4a4e-9cbe-7bb626f3de97",
   "metadata": {},
   "outputs": [],
   "source": [
    "class Node:\n",
    "    \"\"\"Esta es la clase nodo. Nos permite modelar un árbol\n",
    "    donde los vertices son estados y las aristas son acciones.\n",
    "    Al resolver un problema, podemos trabajar con nodos para\n",
    "    representar el camino que se ha tomado hasta llegar a la\n",
    "    solución.\"\"\"\n",
    "    \n",
    "    def __init__(self, state, parent=None, action=None, path_cost=0):\n",
    "        \"\"\"Crea un nodo, a partir de (posiblemente) otro nodo padre\n",
    "        y una acción.\"\"\"\n",
    "        self.state = state\n",
    "        self.parent = parent\n",
    "        self.action = action\n",
    "        self.path_cost = path_cost\n",
    "        self.depth = 0\n",
    "        if parent:\n",
    "            self.depth = parent.depth + 1\n",
    "    \n",
    "    def __repr__(self):\n",
    "        \"\"\"Ver ejemplo más adelante\"\"\"\n",
    "        return f\"<Node {self.state}>\"\n",
    "    \n",
    "    def __lt__(self, node):\n",
    "        \"\"\"Ver ejemplo más adelante\"\"\"\n",
    "        return self.state < node.state\n",
    "    \n",
    "    def __eq__(self, other):\n",
    "        \"\"\"Ver ejemplo más adelante\"\"\"\n",
    "        return (\n",
    "            isinstance(other, Node) and\n",
    "            self.state == other.state\n",
    "        )\n",
    "    \n",
    "    def __hash__(self):\n",
    "        \"\"\"Ver ejemplo más adelante\"\"\"\n",
    "        return hash(self.state)\n",
    "    \n",
    "    def expand(self, problem):\n",
    "        \"\"\"Enlista los nodos que son alcanzables con una acción\n",
    "        a partir de este nodo.\"\"\"\n",
    "        return [self.child_node(problem, action)\n",
    "                for action in problem.actions(self.state)]\n",
    "    \n",
    "    def child_node(self, problem, action):\n",
    "        \"\"\"Construye un nodo hijo a partir de efectuar una acción en\n",
    "        el estado actual.\"\"\"\n",
    "        next_state = problem.result(self.state, action)\n",
    "        next_cost = problem.path_cost(self.path_cost, self.state, action, next_state)\n",
    "        next_node = Node(next_state, self, action, next_cost)\n",
    "        return next_node\n",
    "    \n",
    "    def solution(self):\n",
    "        \"\"\"Regresa una lista de acciones para llegar a este nodo.\"\"\"\n",
    "        return [node.action for node in self.path()[1:]]\n",
    "    \n",
    "    def path(self):\n",
    "        \"\"\"Regresa una lista de nodos que forman la trayectoria desde\n",
    "        la raíz hasta este nodo.\"\"\"\n",
    "        node, path_back = self, []\n",
    "        while node:\n",
    "            path_back.append(node)\n",
    "            node = node.parent\n",
    "        return list(reversed(path_back))"
   ]
  },
  {
   "cell_type": "markdown",
   "id": "b0dc0ec4-69b8-4d55-b927-4ee212b73226",
   "metadata": {},
   "source": [
    "# Resolución de problemas genéricos reciclables"
   ]
  },
  {
   "cell_type": "markdown",
   "id": "d090028f-64ce-4f3b-83e1-c986b6e0ed59",
   "metadata": {},
   "source": [
    "## El problema\n",
    "\n",
    "![GIF vuelo](https://media.giphy.com/media/3o6nV8OYdUhiuKja1i/giphy.gif)"
   ]
  },
  {
   "cell_type": "code",
   "execution_count": null,
   "id": "cc2339e3-27e4-434b-854d-6e86f73e6d42",
   "metadata": {},
   "outputs": [],
   "source": [
    "import time\n",
    "import random\n",
    "import math"
   ]
  },
  {
   "cell_type": "markdown",
   "id": "df398780-6108-4ee4-bf4f-3753b4a019ee",
   "metadata": {},
   "source": [
    "Planear un viaje para un grupo de personas que viven en distintos lugares llegando al mismo lugar siempre es un reto.\n",
    "\n",
    "Consideremos que los miembros de una familia vienen de todas partes de Estados Unidos para encontrarse en Nueva York. Todos van a llegar el mismo día y regresarse el mismo día, y quisieran compartir transporte hacia y desde el aeropuerto.\n",
    "\n",
    "Definimos una lista con parejas (*Nombre*, *Aeropuerto*) que indican el aeropuerto del que parte cada miembro de la familia."
   ]
  },
  {
   "cell_type": "code",
   "execution_count": null,
   "id": "01b5da1d-d44c-40ea-a92c-e58d39b20cd1",
   "metadata": {},
   "outputs": [],
   "source": [
    "people = [('Seymour', 'BOS'),\n",
    "          ('Franny' , 'DAL'),\n",
    "          ('Zooey'  , 'CAK'),\n",
    "          ('Walt'   , 'MIA'),\n",
    "          ('Buddy'  , 'ORD'),\n",
    "          ('Les'    , 'OMA')]"
   ]
  },
  {
   "cell_type": "code",
   "execution_count": null,
   "id": "90fcb2f5-2f97-4556-b594-4fcf72b8d7c2",
   "metadata": {},
   "outputs": [],
   "source": [
    "destination = 'LGA'"
   ]
  },
  {
   "cell_type": "markdown",
   "id": "0bf8243b-b5c5-4f70-8c4b-57992072f409",
   "metadata": {},
   "source": [
    "Podemos obtener información de cada aeropuerto a partir del archivo `airport-codes.txt`."
   ]
  },
  {
   "cell_type": "code",
   "execution_count": null,
   "id": "c101496f-2d6d-4d52-8111-62b147a4a370",
   "metadata": {},
   "outputs": [],
   "source": [
    "def load_airports(path):\n",
    "    airports = {}\n",
    "    with open(path) as f:\n",
    "        f.readline()\n",
    "        for line in f:\n",
    "            cols = line.strip().split(',')\n",
    "            iata = cols[9]\n",
    "            name = cols[2]\n",
    "            region = cols[6]\n",
    "            municipality = cols[7]\n",
    "            airports[iata] = (\n",
    "                name,\n",
    "                region,\n",
    "                municipality\n",
    "            )\n",
    "    return airports"
   ]
  },
  {
   "cell_type": "code",
   "execution_count": null,
   "id": "9b96d28c-736b-48d4-9de1-282d938a2d82",
   "metadata": {},
   "outputs": [],
   "source": [
    "airports = load_airports('B-Python_intermedio_3/airport-codes.txt')"
   ]
  },
  {
   "cell_type": "markdown",
   "id": "dfc739f5-1d22-4784-b5a5-f4ab3ef571b4",
   "metadata": {},
   "source": [
    "Veamos una descripción del viaje de ida de cada miembro de la familia"
   ]
  },
  {
   "cell_type": "code",
   "execution_count": null,
   "id": "876d4620-3e3e-4a13-afb1-8189d05feaed",
   "metadata": {},
   "outputs": [],
   "source": [
    "for name, iata in people:\n",
    "    print(f\"\\\n",
    "* {name} Smith parte de \\\n",
    "“{airports[iata][0]}” en {airports[iata][2]} \\\n",
    "y viaja hasta \\\n",
    "“{airports[destination][0]}” en {airports[destination][2]}\\\n",
    "\")"
   ]
  },
  {
   "cell_type": "markdown",
   "id": "b510d798-0816-4a5b-9384-90226c61d8c2",
   "metadata": {},
   "source": [
    "Existen muchos vuelos al día para llegar a Nueva York desde las ubicaciones de los miembros de esta familia, todos saliendo a distintos tiempos y con distinto precio.\n",
    "\n",
    "Podemos obtener información de los vuelos disponibles a partir del archivo `schedule.txt`."
   ]
  },
  {
   "cell_type": "code",
   "execution_count": null,
   "id": "915df899-8e14-48e0-ae58-1e5fa9418b7f",
   "metadata": {},
   "outputs": [],
   "source": [
    "def load_flights(path):\n",
    "    flights = {}\n",
    "    with open(path) as f:\n",
    "        for line in f:\n",
    "            origin, dest, t_depart, t_arrive, price = line.strip().split(',')\n",
    "            flights.setdefault((origin, dest), [])\n",
    "            flights[(origin, dest)].append((t_depart, t_arrive, int(price)))\n",
    "    return flights"
   ]
  },
  {
   "cell_type": "code",
   "execution_count": null,
   "id": "297bc450-d3b7-4275-967a-762985f6097e",
   "metadata": {},
   "outputs": [],
   "source": [
    "flights = load_flights('B-Python_intermedio_3/schedule.txt')"
   ]
  },
  {
   "cell_type": "markdown",
   "id": "f74cbcaa-54e8-4615-aad7-33dd996e4098",
   "metadata": {},
   "source": [
    "Podemos consultar los posibles vuelos de ida para un miembro de la familia (en este ejemplo el primero en la lista, que es Seymour) de la siguiente forma:"
   ]
  },
  {
   "cell_type": "code",
   "execution_count": null,
   "id": "4c50b4c2-c648-4742-b973-a8503fec655c",
   "metadata": {},
   "outputs": [],
   "source": [
    "flights[(\n",
    "    people[0][1],\n",
    "    destination,\n",
    ")]"
   ]
  },
  {
   "cell_type": "markdown",
   "id": "43d0de96-0680-4502-9089-86508220b05a",
   "metadata": {},
   "source": [
    "Para su vuelo de regreso, simplemente cambiamos el orden del viaje:"
   ]
  },
  {
   "cell_type": "code",
   "execution_count": null,
   "id": "7e4f90bd-bceb-43a2-b7d3-e18d52231da0",
   "metadata": {},
   "outputs": [],
   "source": [
    "flights[(\n",
    "    destination,\n",
    "    people[0][1],\n",
    ")]"
   ]
  },
  {
   "cell_type": "markdown",
   "id": "77a6c1d7-82de-4e51-a8c4-feb7d12be736",
   "metadata": {},
   "source": [
    "Una desventaja de nuestra actual representación para los vuelos es la forma en que se especifican los tiempos.\n",
    "\n",
    "Para trabajar con valores numéricos, vamos a considerar una función que calcula la cantidad de minutos que han pasado en el día para cierta hora."
   ]
  },
  {
   "cell_type": "code",
   "execution_count": null,
   "id": "29673dd1-138c-4785-8ab9-23f490a9f5ff",
   "metadata": {},
   "outputs": [],
   "source": [
    "def get_minutes(t):\n",
    "    x = time.strptime(t, '%H:%M')\n",
    "    h = x.tm_hour\n",
    "    m = x.tm_min\n",
    "    return 60 * h + m"
   ]
  },
  {
   "cell_type": "code",
   "execution_count": null,
   "id": "e6af6e7c-9f41-4709-b0e4-0268ea747e88",
   "metadata": {},
   "outputs": [],
   "source": [
    "list(\n",
    "    map(\n",
    "        lambda x: (\n",
    "            get_minutes(x[0]),\n",
    "            get_minutes(x[1]),\n",
    "            x[2],\n",
    "        ),\n",
    "        flights[(\n",
    "            people[0][1],\n",
    "            destination\n",
    "        )]\n",
    "    )\n",
    ")"
   ]
  },
  {
   "cell_type": "markdown",
   "id": "26f00668-b264-4952-9971-10bce0b06192",
   "metadata": {},
   "source": [
    "Vamos a considerar una estructura particular para las posibles soluciones al problema. Una representación usual es que las soluciones sean listas de números. En nuestro caso, cada número puede representar el vuelo de ida o el vuelo de regreso, de tal manera que el tamaño de la solución es dos veces más que la cantidad de personas.\n",
    "\n",
    "Por ejemplo,\n",
    "```\n",
    "[1,4,3,2,7,3,6,3,2,4,5,3]\n",
    "```\n",
    "\n",
    "Nos representa una solución donde:\n",
    "- la persona con índice `0` toma el vuelo de ida con índice `1` y el vuelo de regreso con índice `4`,\n",
    "- la persona con índice `1` toma el vuelo de ida con índice `3` y el vuelo de regreso con índice `2`,\n",
    "- la persona con índice `3` toma el vuelo de ida con índice `7` y el vuelo de regreso con índice `3`,\n",
    "- etc.\n",
    "\n",
    "El índice de las personas hace referencia a la lista `people`, si dicha persona vive en `A` y va a `B`, entonces el índice de ida hace referencia a la lista `flights[(A,B)]`, mientras que el índice de regreso hace referencia a la lista `flights[(B,A)]`.\n",
    "\n",
    "Todo esto puede sonar confuso, lo conveniente es elegir una representación lo suficientemente simple para que nuestros programas encuentren buenas soluciones, pero lo suficientemente complejo como para entender soluciones como personas.\n",
    "\n",
    "La siguiente función nos permite tomar un valor de solución e imprimir la información de forma legible."
   ]
  },
  {
   "cell_type": "code",
   "execution_count": null,
   "id": "5210a474-3562-4f72-adc3-320b20228106",
   "metadata": {},
   "outputs": [],
   "source": [
    "def print_schedule(s):\n",
    "    for i in range(len(s) // 2):\n",
    "        name = people[i][0]\n",
    "        origin = people[i][1]\n",
    "        out = flights[(origin,destination)][s[2*i]]\n",
    "        ret = flights[(destination,origin)][s[2*i+1]]\n",
    "        print('%10s%10s %5s-%5s $%3s %5s-%5s $%3s' % (\n",
    "            name,\n",
    "            airports[people[i][1]][2],\n",
    "            out[0],out[1],out[2],\n",
    "            ret[0],ret[1],ret[2],\n",
    "        ))"
   ]
  },
  {
   "cell_type": "code",
   "execution_count": null,
   "id": "1a4a7019-9bc1-47ba-824b-f19c117b46a0",
   "metadata": {
    "scrolled": true
   },
   "outputs": [],
   "source": [
    "print_schedule([1,4,3,2,7,3,6,3,2,4,5,3])"
   ]
  },
  {
   "cell_type": "markdown",
   "id": "b2d1a632-3228-4762-b6a3-ff558471f687",
   "metadata": {},
   "source": [
    "Hasta ahora, hemos modelado este problema de forma computacional y tenemos codificaciones prácticas para razonar sobre personas, vuelos y tiempos.\n",
    "Sin embargo, podemos ver que la solución de ejemplo nos dice que Walt viaja desde Miami en el vuelo que parte a las 15:34 y regresa el mismo dia a las 11:08...\n",
    "\n",
    "Esta es una pésima solución... ¡es imposible!\n",
    "\n",
    "Para poder avanzar, necesitamos un criterio que nos permita comparar dos soluciones, claramente la que del ejemplo es pésima, pero ¿De qué forma podemos especificar que una solución es mejor que esta?"
   ]
  },
  {
   "cell_type": "markdown",
   "id": "9560a14c-1295-485f-80ce-8b1ef217a98d",
   "metadata": {},
   "source": [
    "## Función de costo\n",
    "\n",
    "![GIF costoso](https://media.giphy.com/media/yIxNOXEMpqkqA/giphy.gif)\n",
    "\n",
    "Vamos a definir una *función de costo*, de tal manera que el problema se va a reducir a encontrar un conjunto de entradas (vuelos en este caso) que minimice la función de costo, es decir, la que tenga el costo más bajo.\n",
    "\n",
    "Esta función de costo debe recibir una posible solución y darnos un valor numérico que nos indique qué tan mala es.\n",
    "\n",
    "Suele ser dificil determinar qué hace que una solución sea buena o mala cuando se involucran varios factores. Consideremos algunos candidatos para este problema:\n",
    "\n",
    "- Precio: El precio total de todos los vuelos de avión, o posiblemente un promedio ponderado que tome en cuenta la situación financiera de los familiares.\n",
    "- Tiempo de viaje: El tiempo total de viaje para todos los familiares.\n",
    "- Tiempo de espera: El tiempo que van a esperar en el aeropuerto a que lleguen los demás miembros de la familia.\n",
    "- Tiempo de salida: Los vuelos que salen demasiado temprano pueden imponer costo adicional a los pasajeros que no durmieron plenamente en la noche por llegar al aeropuerto.\n",
    "- Periodo de renta de carro: Si la familia renta un carro, deben regresarlo lo suficientemente temprano en el día para que no les cobren un día adicional.\n",
    "\n",
    "![GIF cansado](https://media.giphy.com/media/AgP9GXdpREaURYbxca/giphy.gif)\n",
    "\n",
    "Podemos imaginarnos otros factores que tomar en cuenta para nuestro problema particular.\n",
    "\n",
    "Una vez que determinamos el conjunto de factores que afectan nuestra noción de *costo*, debemos determinar cómo combinarlas en un número."
   ]
  },
  {
   "cell_type": "code",
   "execution_count": null,
   "id": "f330f4c6-0665-46d6-9dc9-ed1da6164478",
   "metadata": {},
   "outputs": [],
   "source": [
    "def schedule_cost(s):\n",
    "    # contamos el precio total de cada vuelo (ida y regreso)\n",
    "    total_price = 0\n",
    "    \n",
    "    # nos interesa conocer el tiempo de llegada a NY mas tarde\n",
    "    # y el tiempo de salida de NY mas temprano.\n",
    "    latest_arrival = 0\n",
    "    earliest_departure = 24 * 60\n",
    "    earliest_arrival = 24 * 60\n",
    "    latest_departure = 0\n",
    "    \n",
    "    for i in range(len(s) // 2):\n",
    "        origin = people[i][1]\n",
    "        out_flight = flights[(origin, destination)][s[2*i]]\n",
    "        ret_flight = flights[(destination, origin)][s[2*i+1]]\n",
    "        \n",
    "        total_price += out_flight[2] # vuelo de ida\n",
    "        total_price += ret_flight[2] # vuelo de regreso\n",
    "\n",
    "        out_arrival = get_minutes(out_flight[1])\n",
    "        ret_departure = get_minutes(ret_flight[0])\n",
    "        \n",
    "        earliest_arrival = min(earliest_arrival, out_arrival)\n",
    "        latest_arrival = max(latest_arrival, out_arrival)\n",
    "        earliest_departure = min(earliest_departure, ret_departure)\n",
    "        latest_departure = max(latest_departure, ret_departure)\n",
    "    \n",
    "    if latest_arrival > earliest_departure:\n",
    "        return float('inf')\n",
    "    \n",
    "    out_waiting_time = latest_arrival - earliest_arrival\n",
    "    ret_waiting_time = latest_departure - earliest_departure\n",
    "    family_time = earliest_departure - latest_arrival\n",
    "    \n",
    "    return (\n",
    "        total_price + \n",
    "        out_waiting_time + \n",
    "        ret_waiting_time -\n",
    "        family_time\n",
    "    )"
   ]
  },
  {
   "cell_type": "markdown",
   "id": "a883bfab-61ff-4e4a-bc2a-a6bc4dadf091",
   "metadata": {},
   "source": [
    "Veamos qué tan malo es nuestro ejemplo con estos criterios de costo:"
   ]
  },
  {
   "cell_type": "code",
   "execution_count": null,
   "id": "d632cf3f-501f-4b5a-973c-f24c5ace4577",
   "metadata": {},
   "outputs": [],
   "source": [
    "schedule_cost([1,4,3,2,7,3,6,3,2,4,5,3])"
   ]
  },
  {
   "cell_type": "markdown",
   "id": "c7e0c584-dec0-42d3-a8f0-fd04f45289dd",
   "metadata": {},
   "source": [
    "## Buscar todas las soluciones"
   ]
  },
  {
   "cell_type": "markdown",
   "id": "6aafba86-731a-4504-b865-91a5f7e4555d",
   "metadata": {},
   "source": [
    "¡Perfecto! Ahora solo tenemos que considerar todas las combinaciones de vuelos para determinar cuál tiene el menor costo."
   ]
  },
  {
   "cell_type": "code",
   "execution_count": null,
   "id": "ad1ec74d-9ce4-498a-990b-45a1cabde633",
   "metadata": {},
   "outputs": [],
   "source": [
    "print(f\"Hay {len(people)} personas en la familia:\")\n",
    "total_solutions = 1\n",
    "for p in people:\n",
    "    name = p[0]\n",
    "    origin = airports[p[1]][2]\n",
    "    outs = len(flights[(p[1],destination)])\n",
    "    rets = len(flights[(destination,p[1])])\n",
    "    total_solutions *= outs\n",
    "    total_solutions *= rets\n",
    "    print(f\"- {name} parte de {origin}, tiene {outs} opciones de salida y {rets} opciones de regreso;\")\n",
    "print(f\"Por lo que hay un total de {total_solutions} posibles soluciones que analizar!\\n\\n\")\n",
    "\n",
    "if total_solutions > 1e9:\n",
    "    print(\"¡Caracoles! esas son muchas soluciones\")\n",
    "else:\n",
    "    print(\"Está facilito encontrar la mejor\")"
   ]
  },
  {
   "cell_type": "markdown",
   "id": "e9ebd6a9-5b99-4108-8d7f-f022f4a2e7d5",
   "metadata": {},
   "source": [
    "![GIF dolor](https://media.giphy.com/media/7T33BLlB7NQrjozoRB/giphy.gif)"
   ]
  },
  {
   "cell_type": "markdown",
   "id": "de6a1fdf-1797-4bea-9fea-c87defb4dc0a",
   "metadata": {},
   "source": [
    "## Buscar aleatoriamente\n",
    "\n",
    "Veamos si podemos encontrar un buen resultado haciendo una búsqueda aleatoria en el espacio de soluciones.\n",
    "\n",
    "![GIF random](https://media.giphy.com/media/89Eko49m84Ja/giphy.gif)"
   ]
  },
  {
   "cell_type": "markdown",
   "id": "308085bb-c3dd-48a0-b392-afca98832868",
   "metadata": {},
   "source": [
    "Consideremos la función `solve_randomly` que toma dos parámetros:\n",
    "1. El *dominio* que consiste en una secuencia de tuplas `(min, max)` que establecen el valor mínimo y máximo que pueden tomar las entradas de las soluciones (de esta forma, codificamos el espacio de posibles soluciones de manera sucinta)\n",
    "2. Una función de *costo*, que toma una posible solución y nos regresa un valor numérico que queremos minimizar.\n",
    "\n",
    "Es importante observar que la cantidad de elementos en el dominio es igual a la cantidad de elementos en una solución.\n",
    "\n",
    "Vamos a generar de forma aleatoria soluciones y regresar aquella con el costo mas pequeño."
   ]
  },
  {
   "cell_type": "code",
   "execution_count": null,
   "id": "23b19f16-1427-49bf-9347-ad4493fe295a",
   "metadata": {},
   "outputs": [],
   "source": [
    "def random_solution(domain):\n",
    "    return [\n",
    "        random.randint(r[0], r[1])\n",
    "        for r in domain\n",
    "    ]"
   ]
  },
  {
   "cell_type": "code",
   "execution_count": null,
   "id": "f0157691-070d-4538-a59d-209e15ddb1d2",
   "metadata": {},
   "outputs": [],
   "source": [
    "def solve_randomly(domain, cost_of, repeats = 1000):\n",
    "    best_cost = float('inf')\n",
    "    best_sol = None\n",
    "    \n",
    "    for _ in range(repeats):\n",
    "        s = random_solution(domain)\n",
    "        c = cost_of(s)\n",
    "        if c <= best_cost:\n",
    "            best_cost = c\n",
    "            best_sol = s\n",
    "    \n",
    "    return best_sol"
   ]
  },
  {
   "cell_type": "code",
   "execution_count": null,
   "id": "81dd0fde-9163-48ba-8927-2d71c61d5e9f",
   "metadata": {},
   "outputs": [],
   "source": [
    "domain = [(0,9)] * len(people) * 2"
   ]
  },
  {
   "cell_type": "code",
   "execution_count": null,
   "id": "0037bdd8-98ac-42b8-acc4-04459426c2a5",
   "metadata": {},
   "outputs": [],
   "source": [
    "def test_randomly(repeats = 1000):\n",
    "    s = solve_randomly(\n",
    "        domain,\n",
    "        schedule_cost,\n",
    "        repeats\n",
    "    )\n",
    "    print_schedule(s)\n",
    "    print(f\"\\nCon costo {schedule_cost(s)}\")"
   ]
  },
  {
   "cell_type": "code",
   "execution_count": null,
   "id": "93cf2a19-32f6-419c-b457-249ad415dd76",
   "metadata": {},
   "outputs": [],
   "source": [
    "test_randomly()"
   ]
  },
  {
   "cell_type": "markdown",
   "id": "e351af22-59fd-46a2-9da6-50d49ade0bea",
   "metadata": {},
   "source": [
    "## Pensando en nuestros alrededores\n",
    "\n",
    "\n",
    "Intentar obtener un buen resultado generando soluciones aleatorias es una ineficiente y pésima estrategia en este caso.\n",
    "\n",
    "Un problema obvio de el método es que no aprovecha la información de las mejores soluciones que ha generado para generar otras buenas soluciones.\n",
    "\n",
    "En nuestro problema particular, una solución con bajo costo es probablemente similar a otras soluciones con bajo costo.\n",
    "\n",
    "Vamos a incorporar esta idea implementando en Python un método alternativo llamado *descenso de colinas*. Comenzamos con una solución aleatoria y buscamos en la *vecindad* de la solución por aquellas que mejoran el costo.\n",
    "\n",
    "![GIF sisifo](https://media.giphy.com/media/xT0BKumCMrUb0dCypa/giphy.gif)\n",
    "\n",
    "Detendremos la búsqueda hasta llegar a una solución cuya vecindad no mejora el costo."
   ]
  },
  {
   "cell_type": "code",
   "execution_count": null,
   "id": "86ba1238-1375-4258-945d-59e1f718655f",
   "metadata": {},
   "outputs": [],
   "source": [
    "def neighbors_of(s, domain):\n",
    "    neighbors = []\n",
    "    for i in range(len(domain)):\n",
    "        if s[i] > domain[i][0]:\n",
    "            neighbors.append(s[0:i] + [s[i] - 1] + s[i+1:])\n",
    "        if s[i] < domain[i][1]:\n",
    "            neighbors.append(s[0:i] + [s[i] + 1] + s[i+1:])\n",
    "    return neighbors"
   ]
  },
  {
   "cell_type": "markdown",
   "id": "dcc1ee11-1523-4590-8dff-66f927c38851",
   "metadata": {},
   "source": [
    "Veamos la lista de vecinos de nuestra solución de ejemplo:"
   ]
  },
  {
   "cell_type": "code",
   "execution_count": null,
   "id": "41e9c722-abf4-44f1-960b-a2edeee6585c",
   "metadata": {},
   "outputs": [],
   "source": [
    "neighbors_of([1,4,3,2,7,3,6,3,2,4,5,3], domain)"
   ]
  },
  {
   "cell_type": "code",
   "execution_count": null,
   "id": "27d48894-cd55-4e4a-a311-6bbf1fd13616",
   "metadata": {},
   "outputs": [],
   "source": [
    "def solve_hillclimbing(domain, cost_of):\n",
    "    s = random_solution(domain)\n",
    "    \n",
    "    while True:\n",
    "        neighbors = neighbors_of(s, domain)\n",
    "        cost = cost_of(s)\n",
    "        best_neighbor = min(neighbors, key=cost_of)\n",
    "        neighbor_cost = cost_of(best_neighbor)\n",
    "        \n",
    "        if cost < neighbor_cost:  \n",
    "            return s\n",
    "        \n",
    "        s = best_neighbor"
   ]
  },
  {
   "cell_type": "code",
   "execution_count": null,
   "id": "4fe442d1-1214-42b6-a737-cef2c036967d",
   "metadata": {},
   "outputs": [],
   "source": [
    "def test_hillclimbing():\n",
    "    s = solve_hillclimbing(\n",
    "        domain,\n",
    "        schedule_cost,\n",
    "    )\n",
    "    print_schedule(s)\n",
    "    print(f\"\\nCon costo {schedule_cost(s)}\")"
   ]
  },
  {
   "cell_type": "code",
   "execution_count": null,
   "id": "992f9b6c-c05d-4b7e-a09c-0dd3ecf5e763",
   "metadata": {},
   "outputs": [],
   "source": [
    "test_hillclimbing()"
   ]
  },
  {
   "cell_type": "markdown",
   "id": "5d9c05a7-0873-4c4a-8020-a84dcbfc0dc4",
   "metadata": {},
   "source": [
    "## Calentando los motores\n",
    "\n",
    "Un problema del método de descenso de colinas es que una vez que se llega a un mínimo local, se deja de buscar. Sin embargo, este mínimo local puede corresponder a una pésima solución.\n",
    "\n",
    "Podemos perturbar la búsqueda con un método llamado *recocido simulado*.\n",
    "\n",
    "![GIF forjar](https://media.giphy.com/media/NpILbqtmLO1Qkfvc4f/giphy.gif)\n",
    "\n",
    "Este método consiste en partir de un estado caliente, en donde es probable seguir un vecino con peor costo. Poco a poco, la temperatura del sistema baja, de tal forma que cada vez es menos probable elegir un peor vecino. Eventualmente, la temperatura es suficientemente baja como para detener la búsqueda.\n",
    "\n",
    "Esto nos permite introducir una probabilidad variable para evitar algunos mínimos locales.\n",
    "\n",
    "La estrategia es la siguiente: comenzamos con una solución aleatoria y una temperatura alta, tomamos un vecino aleatorio y analizamos los casos:\n",
    "1. Si el vecino tiene menor costo $c'$ que la solución actual con costo $c$, elegimos al vecino como nueva solución\n",
    "2. Si no es el caso, elegimos al vecino como nueva solución con probabilidad $$\\mathrm{e}^{(c-c')/T}$$"
   ]
  },
  {
   "cell_type": "code",
   "execution_count": null,
   "id": "39a3cc38-727f-4edc-9b65-ee12634e8bc4",
   "metadata": {},
   "outputs": [],
   "source": [
    "def solve_annealing(domain, cost_of, Ti=10000.0, Tf=0.1, alpha=0.95):\n",
    "    solution = random_solution(domain)\n",
    "    cost = cost_of(solution)\n",
    "    T = Ti\n",
    "    while T > Tf:\n",
    "        neighbor = random.choice(neighbors_of(solution, domain))\n",
    "        neighbor_cost = cost_of(neighbor)\n",
    "        diff = cost - neighbor_cost\n",
    "        if diff > 0 or random.random() < math.exp(diff / T):\n",
    "            solution = neighbor\n",
    "            cost = neighbor_cost\n",
    "        T = alpha*T\n",
    "    \n",
    "    return solution"
   ]
  },
  {
   "cell_type": "code",
   "execution_count": null,
   "id": "605d2dfb-0272-4db1-993a-b8f8c5c56677",
   "metadata": {},
   "outputs": [],
   "source": [
    "def test_annealing(Ti=100000.0, Tf=0.1, alpha=0.95):\n",
    "    s = solve_annealing(\n",
    "        domain,\n",
    "        schedule_cost,\n",
    "        Ti, Tf, alpha,\n",
    "    )\n",
    "    print_schedule(s)\n",
    "    print(f\"\\nCon costo {schedule_cost(s)}\")"
   ]
  },
  {
   "cell_type": "code",
   "execution_count": null,
   "id": "a162e398-1725-4633-86bb-3ce50aa464fd",
   "metadata": {},
   "outputs": [],
   "source": [
    "test_annealing(Ti=10000.0, Tf=0.1, alpha=0.9)"
   ]
  },
  {
   "cell_type": "markdown",
   "id": "796d32ff-9c17-44a3-94e1-a3cdead139d2",
   "metadata": {},
   "source": [
    "## ¿Evolución al rescate?\n",
    "\n",
    "![GIF darwin](https://media.giphy.com/media/VFAke5Xm1TDwjgimyW/giphy.gif)\n",
    "\n",
    "Ahora vamos a considerar otro método, que al igual que el recocido simulado está inspirado en la naturaleza, pero no en la física, si no en la biología.\n",
    "\n",
    "Primero se crea un conjunto de soluciones aleatorias, conocidas como *la población*. En cada paso del método, la función de costo para cada solución en la población es calculada, esto nos permite ordenar las soluciones de mejor a peor.\n",
    "\n",
    "Posteriormente, una nueva población es generada a partir de la actual: Las mejores soluciones de la actual se conservan tal cuál (*elitismo*). El resto de la población, va a ser modificada para obtener la nueva población.\n",
    "\n",
    "Hay dos formas en que las soluciones pueden ser modificadas. La mas simple es llamada *mutación* y consiste en un pequeño y simple cambio aleatorio a la solución actual. Esto sería similar a elegir un vecino de forma aleatoria.\n",
    "\n",
    "Otra manera de modificar las soluciones es llamado *cruza*, consiste en tomar dos soluciones de las mejores y combinarlas de alguna manera. Una forma simple de combinarlas es tomar una cantidad aleatoria de elementos de una buena solución y acompletar los elementos que faltan con otra buena solución.\n",
    "\n",
    "Una vez que se obtiene la nueva población, el proceso continúa."
   ]
  },
  {
   "cell_type": "code",
   "execution_count": null,
   "id": "55be0060-ba5b-4f55-b72c-0eaa63031a2c",
   "metadata": {},
   "outputs": [],
   "source": [
    "def mutate(s, domain):\n",
    "    return random.choice(neighbors_of(s, domain))"
   ]
  },
  {
   "cell_type": "code",
   "execution_count": null,
   "id": "160c2d37-231a-412c-9ca0-0f32acbb9b84",
   "metadata": {},
   "outputs": [],
   "source": [
    "def crossover(s1, s2):\n",
    "    i = random.randint(1, len(s1)-2)\n",
    "    return s1[:i] + s2[i:]"
   ]
  },
  {
   "cell_type": "code",
   "execution_count": null,
   "id": "e8d1c702-0cea-46f0-9000-b82dcca80411",
   "metadata": {},
   "outputs": [],
   "source": [
    "def solve_evolving(domain, cost_of, pop_size=50, mut_prob=0.2, elite=0.2, epochs=100):\n",
    "    pop = [random_solution(domain) for _ in range(pop_size)]\n",
    "    top_elite = int(elite * pop_size)\n",
    "    \n",
    "    for epoch in range(epochs):\n",
    "        pop.sort(key=cost_of)\n",
    "        best = pop[:top_elite]\n",
    "        while len(best) < pop_size:\n",
    "            if random.random() < mut_prob:\n",
    "                best.append(mutate(\n",
    "                    best[random.randint(0, top_elite-1)],\n",
    "                    domain\n",
    "                ))\n",
    "            else:\n",
    "                best.append(crossover(\n",
    "                    best[random.randint(0, top_elite-1)],\n",
    "                    best[random.randint(0, top_elite-1)],\n",
    "                ))\n",
    "        pop = best\n",
    "    pop.sort(key=cost_of)\n",
    "    return pop[0]"
   ]
  },
  {
   "cell_type": "code",
   "execution_count": null,
   "id": "a81beb6c-3755-43ee-8c23-9fedb0044a4f",
   "metadata": {},
   "outputs": [],
   "source": [
    "def test_evolving(pop_size=50, mut_prob=0.2, elite=0.2, epochs=100):\n",
    "    s = solve_evolving(\n",
    "        domain,\n",
    "        schedule_cost,\n",
    "        pop_size, mut_prob,\n",
    "        elite, epochs,\n",
    "    )\n",
    "    print_schedule(s)\n",
    "    print(f\"\\nCon costo {schedule_cost(s)}\")"
   ]
  },
  {
   "cell_type": "code",
   "execution_count": null,
   "id": "27c8bc52-78dd-4565-a695-d241b5ba56f3",
   "metadata": {},
   "outputs": [],
   "source": [
    "test_evolving(50, 0.2, 0.2, 100)"
   ]
  },
  {
   "cell_type": "markdown",
   "id": "f68bd09f-a854-46d0-9fbf-b0d000d33884",
   "metadata": {},
   "source": [
    "# La tarea\n",
    "\n",
    "1. Modela este problema utilizando técnicas de orientado a objetos.\n",
    "2. Explora los parámetros y la función costo de este problema, intenta encontrar mejores valores para resolver el problema.\n",
    "3. Elige un problema distinto, y modela las posibles soluciones del problema para utilizar los métodos discutidos en esta libreta: búsqueda de solución aleatoria, búsqueda de solución por descenso de colinas, búsqueda de solución por recocido simulado, búsqueda de solución por algoritmos genéticos.\n",
    "4. Compara los resultados de las soluciones de los cuatro métodos anteriores.\n",
    "5. ¿Es posible resolver el problema que planteas analizando todas las posibles soluciones? Justifica tu respuesta."
   ]
  }
 ],
 "metadata": {
  "kernelspec": {
   "display_name": "Python 3 (ipykernel)",
   "language": "python",
   "name": "python3"
  },
  "language_info": {
   "codemirror_mode": {
    "name": "ipython",
    "version": 3
   },
   "file_extension": ".py",
   "mimetype": "text/x-python",
   "name": "python",
   "nbconvert_exporter": "python",
   "pygments_lexer": "ipython3",
   "version": "3.12.6"
  }
 },
 "nbformat": 4,
 "nbformat_minor": 5
}
