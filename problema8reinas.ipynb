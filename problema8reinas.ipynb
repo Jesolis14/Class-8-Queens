{
 "cells": [
  {
   "cell_type": "code",
   "execution_count": 113,
   "metadata": {},
   "outputs": [],
   "source": [
    "import math\n",
    "import random\n",
    "import time"
   ]
  },
  {
   "cell_type": "code",
   "execution_count": 114,
   "metadata": {},
   "outputs": [],
   "source": [
    "class Problem:\n",
    "    \"\"\"Esta es una clase abstracta para un problema.\n",
    "    No se supone que debamos crear objetos de esta\n",
    "    clase directamente. La idea es que otras clases\n",
    "    hereden de esta para crear clases de problemas\n",
    "    más especeificos.\"\"\"\n",
    "    \n",
    "    def __init__(self, initial, goal=None):\n",
    "        \"\"\"Esta definición es un método, es especial\n",
    "        porque comienza y termina con doble piso.\n",
    "        En Python, el método __init__ es utilizado\n",
    "        para construir objetos de la clase.\n",
    "        En este y el resto de los métodos, el primer\n",
    "        parámetro es self, y nos permite referirnos\n",
    "        al objeto sobre el cuál el método es invocado.\"\"\"\n",
    "        self.initial = initial\n",
    "        self.goal = goal\n",
    "    \n",
    "    def actions(self, state):\n",
    "        \"\"\"Un problema contiene un estado inicial y\n",
    "        quizá una meta en particular. El método actions\n",
    "        debe regresar las acciones que se pueden tomar\n",
    "        en el estado dado. El resultado usualmente es\n",
    "        una lista, pero si debes regresar muchas acciones,\n",
    "        considera usar yield para generarlas una a la vez.\"\"\"\n",
    "        raise NotImplementedError\n",
    "    \n",
    "    def result(self, state, action):\n",
    "        \"\"\"El método anterior, al igual que este, tiene una\n",
    "        implementación trivial. Simplemente señalamos un\n",
    "        error que indica que no hay una implementación\n",
    "        para el método. En una implementación de este método,\n",
    "        debemos regresar el estado al que llegamos después\n",
    "        de ejecutar la acción dada en el estado dado.\n",
    "        La acción debe ser una calculada por\n",
    "        self.actions(state).\"\"\"\n",
    "        raise NotImplementedError\n",
    "\n",
    "    def random_solution(self):\n",
    "        raise NotImplementedError\n",
    "\n",
    "    def neighbors_of(self, state):\n",
    "        raise NotImplementedError\n",
    "    \n",
    "    def goal_test(self, state):\n",
    "        \"\"\"De seguro ya te diste cuenta que todos estos\n",
    "        métodos son muy generales y poco específicos.\n",
    "        ¿Qué forma tienen los estados?\n",
    "        ¿Qué son las acciones?\n",
    "        ¿Qué es una meta?\n",
    "        Este método regresa True si el estado dado es una\n",
    "        meta. Por defecto se compara el estado dado con\n",
    "        self.goal o verifica que el estado dado sea\n",
    "        elemento de self.goal en caso de ser lista.\"\"\"\n",
    "        if isinstance(self.goal, list):\n",
    "            return any(x is state for x in self.goal)\n",
    "        return state == self.goal\n",
    "    \n",
    "    def path_cost(self, c, state1, action, state2):\n",
    "        \"\"\"El método anterior si tenía una implementación útil,\n",
    "        sigue siendo general, pero podemos pensar que en muchos\n",
    "        problemas, si un estado es igual a la meta, entonces hemos\n",
    "        llegado a la meta. El método path_cost también incluye una\n",
    "        implementación: Se considera que llegar al estado 1 tiene\n",
    "        un costo c. Regresa el costo de un camino de solución que\n",
    "        llega al estado 2 desde estado 1 por medio de la acción dada.\"\"\"\n",
    "        return c + 1\n",
    "    \n",
    "    def value(self, state):\n",
    "        \"\"\"En distintos problemas, cada estado tiene un valor asociado.\n",
    "        Este método sirve para obtener este valor.\"\"\"\n",
    "        raise NotImplementedError"
   ]
  },
  {
   "cell_type": "code",
   "execution_count": 115,
   "metadata": {},
   "outputs": [],
   "source": [
    "def factorial(num):\n",
    "        if num == 1:\n",
    "            return num\n",
    "        else:\n",
    "            return factorial(num-1) * num"
   ]
  },
  {
   "cell_type": "code",
   "execution_count": 116,
   "metadata": {},
   "outputs": [],
   "source": [
    "class NReinas(Problem):\n",
    "    def __init__(self,n_col):\n",
    "        self.n_col = n_col\n",
    "        domain = factorial(self.n_col)\n",
    "        self.domain = domain\n",
    "\n",
    "    def random_solution(self):\n",
    "        solution = list(range(self.n_col))\n",
    "        random.shuffle(solution)\n",
    "        return solution\n",
    "\n",
    "    def value(self, state):\n",
    "        diagonal1 = []\n",
    "        diagonal2 = []\n",
    "        for i in range(self.n_col):\n",
    "            diagonal1.append(i+state[i])\n",
    "            diagonal2.append(i-state[i])\n",
    "        return 2*self.n_col - (len(set(diagonal1)) + len(set(diagonal2)))\n",
    "    \n",
    "    def neighbors_of(self,state):\n",
    "        neighbors = []\n",
    "        for i in range(len(state)):\n",
    "            for j in range(i+1,len(state)):\n",
    "                neighbors.append(state[:i] + state[j:j+1] + state [i+1:j] + state[i:i+1] + state[j+1:])\n",
    "        return neighbors\n",
    "\n",
    "    \n"
   ]
  },
  {
   "cell_type": "code",
   "execution_count": 117,
   "metadata": {},
   "outputs": [],
   "source": [
    "Reinas8 = NReinas(20)"
   ]
  },
  {
   "cell_type": "code",
   "execution_count": 118,
   "metadata": {},
   "outputs": [],
   "source": [
    "class OptimazationMethod:\n",
    "    def solve(slef, Problem):\n",
    "        raise NotImplementedError"
   ]
  },
  {
   "cell_type": "code",
   "execution_count": 119,
   "metadata": {},
   "outputs": [],
   "source": [
    "class HillClimbing(OptimazationMethod):\n",
    "    def solve(self,Problem):\n",
    "        s = Problem.random_solution()\n",
    "\n",
    "        while True:\n",
    "            cost = Problem.value(s)\n",
    "            neighbors = Problem.neighbors_of(s)\n",
    "            best_neighbor = min(neighbors, key=Problem.value)\n",
    "            neighbor_cost = Problem.value(best_neighbor)\n",
    "            if cost <= neighbor_cost:\n",
    "                return s, cost\n",
    "            \n",
    "            s = best_neighbor\n",
    "            "
   ]
  },
  {
   "cell_type": "code",
   "execution_count": 121,
   "metadata": {},
   "outputs": [
    {
     "name": "stdout",
     "output_type": "stream",
     "text": [
      "([2, 4, 13, 11, 18, 3, 19, 16, 9, 0, 6, 8, 12, 17, 7, 5, 15, 1, 10, 14], 0)\n"
     ]
    }
   ],
   "source": [
    "print(HillClimbing().solve(Reinas8))"
   ]
  }
 ],
 "metadata": {
  "kernelspec": {
   "display_name": "venv",
   "language": "python",
   "name": "python3"
  },
  "language_info": {
   "codemirror_mode": {
    "name": "ipython",
    "version": 3
   },
   "file_extension": ".py",
   "mimetype": "text/x-python",
   "name": "python",
   "nbconvert_exporter": "python",
   "pygments_lexer": "ipython3",
   "version": "3.12.5"
  }
 },
 "nbformat": 4,
 "nbformat_minor": 2
}
