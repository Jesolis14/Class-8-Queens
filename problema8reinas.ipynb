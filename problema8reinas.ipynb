{
 "cells": [
  {
   "cell_type": "code",
   "execution_count": 451,
   "metadata": {},
   "outputs": [],
   "source": [
    "import random\n",
    "from itertools import permutations\n",
    "import math"
   ]
  },
  {
   "cell_type": "code",
   "execution_count": 452,
   "metadata": {},
   "outputs": [],
   "source": [
    "class Problem:\n",
    "    \"\"\"Esta es una clase abstracta para un problema.\n",
    "    No se supone que debamos crear objetos de esta\n",
    "    clase directamente. La idea es que otras clases\n",
    "    hereden de esta para crear clases de problemas\n",
    "    más especeificos.\"\"\"\n",
    "    \n",
    "    def __init__(self, initial, goal=None):\n",
    "        \"\"\"Esta definición es un método, es especial\n",
    "        porque comienza y termina con doble piso.\n",
    "        En Python, el método __init__ es utilizado\n",
    "        para construir objetos de la clase.\n",
    "        En este y el resto de los métodos, el primer\n",
    "        parámetro es self, y nos permite referirnos\n",
    "        al objeto sobre el cuál el método es invocado.\"\"\"\n",
    "        self.initial = initial\n",
    "        self.goal = goal\n",
    "    \n",
    "    def actions(self, state):\n",
    "        \"\"\"Un problema contiene un estado inicial y\n",
    "        quizá una meta en particular. El método actions\n",
    "        debe regresar las acciones que se pueden tomar\n",
    "        en el estado dado. El resultado usualmente es\n",
    "        una lista, pero si debes regresar muchas acciones,\n",
    "        considera usar yield para generarlas una a la vez.\"\"\"\n",
    "        raise NotImplementedError\n",
    "    \n",
    "    def result(self, state, action):\n",
    "        \"\"\"El método anterior, al igual que este, tiene una\n",
    "        implementación trivial. Simplemente señalamos un\n",
    "        error que indica que no hay una implementación\n",
    "        para el método. En una implementación de este método,\n",
    "        debemos regresar el estado al que llegamos después\n",
    "        de ejecutar la acción dada en el estado dado.\n",
    "        La acción debe ser una calculada por\n",
    "        self.actions(state).\"\"\"\n",
    "        raise NotImplementedError\n",
    "\n",
    "    def random_solution(self):\n",
    "        raise NotImplementedError\n",
    "\n",
    "    def neighbors_of(self, state):\n",
    "        raise NotImplementedError\n",
    "    \n",
    "    def goal_test(self, state):\n",
    "        \"\"\"De seguro ya te diste cuenta que todos estos\n",
    "        métodos son muy generales y poco específicos.\n",
    "        ¿Qué forma tienen los estados?\n",
    "        ¿Qué son las acciones?\n",
    "        ¿Qué es una meta?\n",
    "        Este método regresa True si el estado dado es una\n",
    "        meta. Por defecto se compara el estado dado con\n",
    "        self.goal o verifica que el estado dado sea\n",
    "        elemento de self.goal en caso de ser lista.\"\"\"\n",
    "        if isinstance(self.goal, list):\n",
    "            return any(x is state for x in self.goal)\n",
    "        return state == self.goal\n",
    "    \n",
    "    \n",
    "    def all_domain(self):\n",
    "        return NotImplementedError\n",
    "    \n",
    "    def random_neighbor(self, state):\n",
    "        raise NotImplementedError\n",
    "    \n",
    "    def crossover(self,state1,state2):\n",
    "        raise NotImplementedError\n",
    "    \n",
    "    def value(self, state):\n",
    "        \"\"\"En distintos problemas, cada estado tiene un valor asociado.\n",
    "        Este método sirve para obtener este valor.\"\"\"\n",
    "        raise NotImplementedError"
   ]
  },
  {
   "cell_type": "code",
   "execution_count": 453,
   "metadata": {},
   "outputs": [],
   "source": [
    "def factorial(num):\n",
    "        if num == 1:\n",
    "            return num\n",
    "        else:\n",
    "            return factorial(num-1) * num"
   ]
  },
  {
   "cell_type": "code",
   "execution_count": 454,
   "metadata": {},
   "outputs": [],
   "source": [
    "class NReinas(Problem):\n",
    "    def __init__(self,n_col):\n",
    "        self.n_col = n_col\n",
    "        domain = factorial(self.n_col)\n",
    "        self.domain = domain\n",
    "\n",
    "    def random_solution(self):\n",
    "        solution = list(range(self.n_col))\n",
    "        random.shuffle(solution)\n",
    "        return solution\n",
    "\n",
    "    def value(self, state):\n",
    "        diagonal1 = []\n",
    "        diagonal2 = []\n",
    "        for i in range(self.n_col):\n",
    "            diagonal1.append(i+state[i])\n",
    "            diagonal2.append(i-state[i])\n",
    "        return 2*self.n_col - (len(set(diagonal1)) + len(set(diagonal2)))\n",
    "    \n",
    "    def neighbors_of(self,state):\n",
    "        neighbors = []\n",
    "        for i in range(len(state)):\n",
    "            for j in range(i+1,len(state)):\n",
    "                neighbors.append(state[:i] + state[j:j+1] + state [i+1:j] + state[i:i+1] + state[j+1:])\n",
    "        return neighbors\n",
    "\n",
    "    def domain_size(self):\n",
    "        if self.domain > 10000000:\n",
    "            return True\n",
    "        else:\n",
    "            return False\n",
    "    \n",
    "    def all_domain(self):\n",
    "        all = [i for i in range(self.n_col)]\n",
    "        return list(permutations(all))\n",
    "    \n",
    "    def crossover(self, s1, s2):\n",
    "        i = random.randint(1, len(s1)-2)\n",
    "        state2 = [elem for elem in s2 if elem not in s1[:i]]\n",
    "        return s1[:i] + state2\n",
    "\n",
    "    def random_neighbor(self, state):\n",
    "        lista = [i for i in range(self.n_col)]\n",
    "        x = lista.pop(random.randint(0,len(lista)-1))\n",
    "        y = lista.pop(random.randint(0,len(lista)-1))\n",
    "        if x < y:\n",
    "            return state[0:x] + [state[y]] + state[x+1:y] + [state[x]] + state[y+1:]\n",
    "        else:\n",
    "            return state[0:y] + [state[x]] + state[y+1:x] + [state[y]] + state[x+1:]\n",
    "        \n"
   ]
  },
  {
   "cell_type": "code",
   "execution_count": 455,
   "metadata": {},
   "outputs": [],
   "source": [
    "class OptimazationMethod:\n",
    "    def solve(slef, Problem):\n",
    "        raise NotImplementedError"
   ]
  },
  {
   "cell_type": "code",
   "execution_count": 456,
   "metadata": {},
   "outputs": [],
   "source": [
    "class ExhaustiveSearch(OptimazationMethod):\n",
    "    def solve(self,Problem):\n",
    "        if Problem.domain_size():\n",
    "            return \"Impossible to calculate with this optimization method in this computer.\"\n",
    "        else:\n",
    "            solution = []\n",
    "            for element in Problem.all_domain():\n",
    "                if Problem.value(element) == 0:\n",
    "                    solution.append(element)\n",
    "        return solution"
   ]
  },
  {
   "cell_type": "code",
   "execution_count": 457,
   "metadata": {},
   "outputs": [],
   "source": [
    "class SolveRandomly(OptimazationMethod):\n",
    "    def __init__(self, repeats: int = 1000):\n",
    "        self.repeats = repeats\n",
    "        \n",
    "    def solve(self,Problem,):\n",
    "        best_cost = float('inf')\n",
    "        best_sol = None\n",
    "    \n",
    "        for _ in range(self.repeats):\n",
    "            s = Problem.random_solution()\n",
    "            c = Problem.value(s)\n",
    "            if c <= best_cost:\n",
    "                best_cost = c\n",
    "                best_sol = s\n",
    "    \n",
    "        return best_sol, best_cost"
   ]
  },
  {
   "cell_type": "code",
   "execution_count": 458,
   "metadata": {},
   "outputs": [],
   "source": [
    "class HillClimbing(OptimazationMethod):\n",
    "    def solve(self,Problem):\n",
    "        s = Problem.random_solution()\n",
    "\n",
    "        while True:\n",
    "            cost = Problem.value(s)\n",
    "            neighbors = Problem.neighbors_of(s)\n",
    "            best_neighbor = min(neighbors, key=Problem.value)\n",
    "            neighbor_cost = Problem.value(best_neighbor)\n",
    "            if cost <= neighbor_cost:\n",
    "                return s, cost\n",
    "            \n",
    "            s = best_neighbor     "
   ]
  },
  {
   "cell_type": "code",
   "execution_count": 459,
   "metadata": {},
   "outputs": [],
   "source": [
    "class Annealing(OptimazationMethod):\n",
    "    def __init__(self,Ti=10000,Tf=.1,alpha=.95):\n",
    "        self.Ti = Ti\n",
    "        self.Tf = Tf\n",
    "        self.alpha = alpha\n",
    "\n",
    "    def solve(self,Problem):\n",
    "        solution = Problem.random_solution()\n",
    "        cost = Problem.value(solution)\n",
    "        T=self.Ti\n",
    "        while T > self.Tf:\n",
    "            if Problem.neighbors_of(solution) == 0:\n",
    "                return solution\n",
    "            neighbor = Problem.random_neighbor(solution)\n",
    "            neighbor_cost = Problem.value(neighbor)\n",
    "            diff = cost - neighbor_cost\n",
    "            if diff > 0 or random.random() < math.exp(diff / T):\n",
    "                solution = neighbor\n",
    "                cost = neighbor_cost\n",
    "            T = self.alpha*T\n",
    "        return solution, cost"
   ]
  },
  {
   "cell_type": "code",
   "execution_count": 460,
   "metadata": {},
   "outputs": [],
   "source": [
    "class Evoling(OptimazationMethod):\n",
    "    def __init__(self, pop_size=50, mut_prob=0.2, elite=0.2, epochs=100):\n",
    "        self.pop_size = pop_size\n",
    "        self.mut_prob = mut_prob\n",
    "        self.elite = elite\n",
    "        self.epochs = epochs\n",
    "\n",
    "    def solve(self, Problem):\n",
    "        pop = [Problem.random_solution() for _ in range(self.pop_size)]\n",
    "        top_elite = int(self.elite * self.pop_size)\n",
    "        \n",
    "        for epoch in range(self.epochs):\n",
    "            pop.sort(key=Problem.value)\n",
    "            best = pop[:top_elite]\n",
    "            while len(best) < self.pop_size:\n",
    "                if random.random() < self.mut_prob:\n",
    "                    best.append(Problem.random_neighbor(\n",
    "                        best[random.randint(0, top_elite-1)]\n",
    "                    ))\n",
    "                else:\n",
    "                    best.append(Problem.crossover(\n",
    "                        best[random.randint(0, top_elite-1)],\n",
    "                        best[random.randint(0, top_elite-1)],\n",
    "                    ))\n",
    "            pop = best\n",
    "        pop.sort(key=Problem.value)\n",
    "        return pop[0], Problem.value(pop[0])"
   ]
  },
  {
   "cell_type": "code",
   "execution_count": 461,
   "metadata": {},
   "outputs": [],
   "source": [
    "Reinas8 = NReinas(15)"
   ]
  },
  {
   "cell_type": "code",
   "execution_count": 462,
   "metadata": {},
   "outputs": [
    {
     "name": "stdout",
     "output_type": "stream",
     "text": [
      "Impossible to calculate with this optimization method in this computer.\n"
     ]
    }
   ],
   "source": [
    "print(ExhaustiveSearch().solve(Reinas8))"
   ]
  },
  {
   "cell_type": "code",
   "execution_count": 463,
   "metadata": {},
   "outputs": [
    {
     "name": "stdout",
     "output_type": "stream",
     "text": [
      "([11, 5, 10, 2, 4, 14, 7, 12, 8, 1, 13, 6, 3, 9, 0], 2)\n"
     ]
    }
   ],
   "source": [
    "print(SolveRandomly().solve(Reinas8))"
   ]
  },
  {
   "cell_type": "code",
   "execution_count": 484,
   "metadata": {},
   "outputs": [
    {
     "name": "stdout",
     "output_type": "stream",
     "text": [
      "([1, 6, 9, 3, 13, 7, 12, 10, 0, 4, 14, 5, 8, 2, 11], 1)\n"
     ]
    }
   ],
   "source": [
    "print(HillClimbing().solve(Reinas8))"
   ]
  },
  {
   "cell_type": "code",
   "execution_count": 465,
   "metadata": {},
   "outputs": [
    {
     "name": "stdout",
     "output_type": "stream",
     "text": [
      "([7, 10, 3, 0, 5, 9, 8, 12, 2, 4, 13, 11, 14, 1, 6], 4)\n"
     ]
    }
   ],
   "source": [
    "print(Annealing().solve(Reinas8))"
   ]
  },
  {
   "cell_type": "code",
   "execution_count": 495,
   "metadata": {},
   "outputs": [
    {
     "name": "stdout",
     "output_type": "stream",
     "text": [
      "([13, 10, 1, 11, 5, 12, 4, 0, 8, 3, 14, 7, 9, 2, 6], 0)\n"
     ]
    }
   ],
   "source": [
    "print(Evoling().solve(Reinas8))"
   ]
  }
 ],
 "metadata": {
  "kernelspec": {
   "display_name": "venv",
   "language": "python",
   "name": "python3"
  },
  "language_info": {
   "codemirror_mode": {
    "name": "ipython",
    "version": 3
   },
   "file_extension": ".py",
   "mimetype": "text/x-python",
   "name": "python",
   "nbconvert_exporter": "python",
   "pygments_lexer": "ipython3",
   "version": "3.12.3"
  }
 },
 "nbformat": 4,
 "nbformat_minor": 2
}
