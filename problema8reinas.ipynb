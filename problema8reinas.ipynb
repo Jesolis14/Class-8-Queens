{
 "cells": [
  {
   "cell_type": "code",
   "execution_count": 85,
   "metadata": {},
   "outputs": [],
   "source": [
    "import random\n",
    "from itertools import permutations\n",
    "import math"
   ]
  },
  {
   "cell_type": "code",
   "execution_count": 86,
   "metadata": {},
   "outputs": [],
   "source": [
    "class Problem:\n",
    "    \"\"\"Esta es una clase abstracta para un problema.\n",
    "    No se supone que debamos crear objetos de esta\n",
    "    clase directamente. La idea es que otras clases\n",
    "    hereden de esta para crear clases de problemas\n",
    "    más especeificos.\"\"\"\n",
    "\n",
    "    def random_solution(self):\n",
    "        raise NotImplementedError\n",
    "\n",
    "    def neighbors_of(self, state):\n",
    "        raise NotImplementedError\n",
    "    \n",
    "    def goal_test(self, state):\n",
    "        \"\"\"De seguro ya te diste cuenta que todos estos\n",
    "        métodos son muy generales y poco específicos.\n",
    "        ¿Qué forma tienen los estados?\n",
    "        ¿Qué son las acciones?\n",
    "        ¿Qué es una meta?\n",
    "        Este método regresa True si el estado dado es una\n",
    "        meta. Por defecto se compara el estado dado con\n",
    "        self.goal o verifica que el estado dado sea\n",
    "        elemento de self.goal en caso de ser lista.\"\"\"\n",
    "        if isinstance(self.goal, list):\n",
    "            return any(x is state for x in self.goal)\n",
    "        return state == self.goal\n",
    "    \n",
    "    \n",
    "    def all_domain(self):\n",
    "        return NotImplementedError\n",
    "    \n",
    "    def random_neighbor(self, state):\n",
    "        raise NotImplementedError\n",
    "    \n",
    "    def crossover(self,state1,state2):\n",
    "        raise NotImplementedError\n",
    "    \n",
    "    def value(self, state):\n",
    "        \"\"\"En distintos problemas, cada estado tiene un valor asociado.\n",
    "        Este método sirve para obtener este valor.\"\"\"\n",
    "        raise NotImplementedError"
   ]
  },
  {
   "cell_type": "code",
   "execution_count": 87,
   "metadata": {},
   "outputs": [],
   "source": [
    "def factorial(num):\n",
    "        if num == 1:\n",
    "            return num\n",
    "        else:\n",
    "            return factorial(num-1) * num"
   ]
  },
  {
   "cell_type": "code",
   "execution_count": 88,
   "metadata": {},
   "outputs": [],
   "source": [
    "class NReinas(Problem):\n",
    "    def __init__(self,n_col):\n",
    "        self.n_col = n_col\n",
    "        domain = factorial(self.n_col)\n",
    "        self.domain = domain\n",
    "\n",
    "    def random_solution(self):\n",
    "        solution = list(range(self.n_col))\n",
    "        random.shuffle(solution)\n",
    "        return solution\n",
    "\n",
    "    def value(self, state):\n",
    "        diagonal1 = []\n",
    "        diagonal2 = []\n",
    "        for i in range(self.n_col):\n",
    "            diagonal1.append(i+state[i])\n",
    "            diagonal2.append(i-state[i])\n",
    "        return 2*self.n_col - (len(set(diagonal1)) + len(set(diagonal2)))\n",
    "    \n",
    "    def neighbors_of(self,state):\n",
    "        neighbors = []\n",
    "        for i in range(len(state)):\n",
    "            for j in range(i+1,len(state)):\n",
    "                neighbors.append(state[:i] + state[j:j+1] + state [i+1:j] + state[i:i+1] + state[j+1:])\n",
    "        return neighbors\n",
    "\n",
    "    def domain_size(self):\n",
    "        if self.domain > 10000000:\n",
    "            return True\n",
    "        else:\n",
    "            return False\n",
    "    \n",
    "    def all_domain(self):\n",
    "        all = [i for i in range(self.n_col)]\n",
    "        return list(permutations(all))\n",
    "    \n",
    "    def crossover(self, s1, s2):\n",
    "        i = random.randint(1, len(s1)-2)\n",
    "        state2 = [elem for elem in s2 if elem not in s1[:i]]\n",
    "        return s1[:i] + state2\n",
    "\n",
    "    def random_neighbor(self, state):\n",
    "        lista = [i for i in range(self.n_col)]\n",
    "        x = lista.pop(random.randint(0,len(lista)-1))\n",
    "        y = lista.pop(random.randint(0,len(lista)-1))\n",
    "        if x < y:\n",
    "            return state[0:x] + [state[y]] + state[x+1:y] + [state[x]] + state[y+1:]\n",
    "        else:\n",
    "            return state[0:y] + [state[x]] + state[y+1:x] + [state[y]] + state[x+1:]\n",
    "        \n"
   ]
  },
  {
   "cell_type": "code",
   "execution_count": 89,
   "metadata": {},
   "outputs": [],
   "source": [
    "class OptimazationMethod:\n",
    "    def solve(slef, Problem):\n",
    "        raise NotImplementedError"
   ]
  },
  {
   "cell_type": "code",
   "execution_count": 90,
   "metadata": {},
   "outputs": [],
   "source": [
    "class ExhaustiveSearch(OptimazationMethod):\n",
    "    def solve(self,Problem):\n",
    "        if Problem.domain_size():\n",
    "            return \"Impossible to calculate with this optimization method in this computer.\"\n",
    "        else:\n",
    "            solution = []\n",
    "            for element in Problem.all_domain():\n",
    "                if Problem.value(element) == 0:\n",
    "                    solution.append(element)\n",
    "        return solution"
   ]
  },
  {
   "cell_type": "code",
   "execution_count": 91,
   "metadata": {},
   "outputs": [],
   "source": [
    "class SolveRandomly(OptimazationMethod):\n",
    "    def __init__(self, repeats: int = 1000):\n",
    "        self.repeats = repeats\n",
    "        \n",
    "    def solve(self,Problem,):\n",
    "        best_cost = float('inf')\n",
    "        best_sol = None\n",
    "    \n",
    "        for _ in range(self.repeats):\n",
    "            s = Problem.random_solution()\n",
    "            c = Problem.value(s)\n",
    "            if c <= best_cost:\n",
    "                best_cost = c\n",
    "                best_sol = s\n",
    "    \n",
    "        return best_sol, best_cost"
   ]
  },
  {
   "cell_type": "code",
   "execution_count": 92,
   "metadata": {},
   "outputs": [],
   "source": [
    "class HillClimbing(OptimazationMethod):\n",
    "    def solve(self,Problem):\n",
    "        s = Problem.random_solution()\n",
    "\n",
    "        while True:\n",
    "            cost = Problem.value(s)\n",
    "            neighbors = Problem.neighbors_of(s)\n",
    "            best_neighbor = min(neighbors, key=Problem.value)\n",
    "            neighbor_cost = Problem.value(best_neighbor)\n",
    "            if cost <= neighbor_cost:\n",
    "                return s, cost\n",
    "            \n",
    "            s = best_neighbor     "
   ]
  },
  {
   "cell_type": "code",
   "execution_count": 93,
   "metadata": {},
   "outputs": [],
   "source": [
    "class Annealing(OptimazationMethod):\n",
    "    def __init__(self,Ti=10000,Tf=.1,alpha=.95):\n",
    "        self.Ti = Ti\n",
    "        self.Tf = Tf\n",
    "        self.alpha = alpha\n",
    "\n",
    "    def solve(self,Problem):\n",
    "        solution = Problem.random_solution()\n",
    "        cost = Problem.value(solution)\n",
    "        T=self.Ti\n",
    "        while T > self.Tf:\n",
    "            if Problem.neighbors_of(solution) == 0:\n",
    "                return solution\n",
    "            neighbor = Problem.random_neighbor(solution)\n",
    "            neighbor_cost = Problem.value(neighbor)\n",
    "            diff = cost - neighbor_cost\n",
    "            if diff > 0 or random.random() < math.exp(diff / T):\n",
    "                solution = neighbor\n",
    "                cost = neighbor_cost\n",
    "            T = self.alpha*T\n",
    "        return solution, cost"
   ]
  },
  {
   "cell_type": "code",
   "execution_count": 94,
   "metadata": {},
   "outputs": [],
   "source": [
    "class Evoling(OptimazationMethod):\n",
    "    def __init__(self, pop_size=50, mut_prob=0.2, elite=0.2, epochs=100):\n",
    "        self.pop_size = pop_size\n",
    "        self.mut_prob = mut_prob\n",
    "        self.elite = elite\n",
    "        self.epochs = epochs\n",
    "\n",
    "    def solve(self, Problem):\n",
    "        pop = [Problem.random_solution() for _ in range(self.pop_size)]\n",
    "        top_elite = int(self.elite * self.pop_size)\n",
    "        \n",
    "        for epoch in range(self.epochs):\n",
    "            pop.sort(key=Problem.value)\n",
    "            best = pop[:top_elite]\n",
    "            while len(best) < self.pop_size:\n",
    "                if random.random() < self.mut_prob:\n",
    "                    best.append(Problem.random_neighbor(\n",
    "                        best[random.randint(0, top_elite-1)]\n",
    "                    ))\n",
    "                else:\n",
    "                    best.append(Problem.crossover(\n",
    "                        best[random.randint(0, top_elite-1)],\n",
    "                        best[random.randint(0, top_elite-1)],\n",
    "                    ))\n",
    "            pop = best\n",
    "        pop.sort(key=Problem.value)\n",
    "        return pop[0], Problem.value(pop[0])"
   ]
  },
  {
   "cell_type": "code",
   "execution_count": 95,
   "metadata": {},
   "outputs": [],
   "source": [
    "ReinasN = NReinas(8)"
   ]
  },
  {
   "cell_type": "code",
   "execution_count": 96,
   "metadata": {},
   "outputs": [
    {
     "name": "stdout",
     "output_type": "stream",
     "text": [
      "[(0, 4, 7, 5, 2, 6, 1, 3), (0, 5, 7, 2, 6, 3, 1, 4), (0, 6, 3, 5, 7, 1, 4, 2), (0, 6, 4, 7, 1, 3, 5, 2), (1, 3, 5, 7, 2, 0, 6, 4), (1, 4, 6, 0, 2, 7, 5, 3), (1, 4, 6, 3, 0, 7, 5, 2), (1, 5, 0, 6, 3, 7, 2, 4), (1, 5, 7, 2, 0, 3, 6, 4), (1, 6, 2, 5, 7, 4, 0, 3), (1, 6, 4, 7, 0, 3, 5, 2), (1, 7, 5, 0, 2, 4, 6, 3), (2, 0, 6, 4, 7, 1, 3, 5), (2, 4, 1, 7, 0, 6, 3, 5), (2, 4, 1, 7, 5, 3, 6, 0), (2, 4, 6, 0, 3, 1, 7, 5), (2, 4, 7, 3, 0, 6, 1, 5), (2, 5, 1, 4, 7, 0, 6, 3), (2, 5, 1, 6, 0, 3, 7, 4), (2, 5, 1, 6, 4, 0, 7, 3), (2, 5, 3, 0, 7, 4, 6, 1), (2, 5, 3, 1, 7, 4, 6, 0), (2, 5, 7, 0, 3, 6, 4, 1), (2, 5, 7, 0, 4, 6, 1, 3), (2, 5, 7, 1, 3, 0, 6, 4), (2, 6, 1, 7, 4, 0, 3, 5), (2, 6, 1, 7, 5, 3, 0, 4), (2, 7, 3, 6, 0, 5, 1, 4), (3, 0, 4, 7, 1, 6, 2, 5), (3, 0, 4, 7, 5, 2, 6, 1), (3, 1, 4, 7, 5, 0, 2, 6), (3, 1, 6, 2, 5, 7, 0, 4), (3, 1, 6, 2, 5, 7, 4, 0), (3, 1, 6, 4, 0, 7, 5, 2), (3, 1, 7, 4, 6, 0, 2, 5), (3, 1, 7, 5, 0, 2, 4, 6), (3, 5, 0, 4, 1, 7, 2, 6), (3, 5, 7, 1, 6, 0, 2, 4), (3, 5, 7, 2, 0, 6, 4, 1), (3, 6, 0, 7, 4, 1, 5, 2), (3, 6, 2, 7, 1, 4, 0, 5), (3, 6, 4, 1, 5, 0, 2, 7), (3, 6, 4, 2, 0, 5, 7, 1), (3, 7, 0, 2, 5, 1, 6, 4), (3, 7, 0, 4, 6, 1, 5, 2), (3, 7, 4, 2, 0, 6, 1, 5), (4, 0, 3, 5, 7, 1, 6, 2), (4, 0, 7, 3, 1, 6, 2, 5), (4, 0, 7, 5, 2, 6, 1, 3), (4, 1, 3, 5, 7, 2, 0, 6), (4, 1, 3, 6, 2, 7, 5, 0), (4, 1, 5, 0, 6, 3, 7, 2), (4, 1, 7, 0, 3, 6, 2, 5), (4, 2, 0, 5, 7, 1, 3, 6), (4, 2, 0, 6, 1, 7, 5, 3), (4, 2, 7, 3, 6, 0, 5, 1), (4, 6, 0, 2, 7, 5, 3, 1), (4, 6, 0, 3, 1, 7, 5, 2), (4, 6, 1, 3, 7, 0, 2, 5), (4, 6, 1, 5, 2, 0, 3, 7), (4, 6, 1, 5, 2, 0, 7, 3), (4, 6, 3, 0, 2, 7, 5, 1), (4, 7, 3, 0, 2, 5, 1, 6), (4, 7, 3, 0, 6, 1, 5, 2), (5, 0, 4, 1, 7, 2, 6, 3), (5, 1, 6, 0, 2, 4, 7, 3), (5, 1, 6, 0, 3, 7, 4, 2), (5, 2, 0, 6, 4, 7, 1, 3), (5, 2, 0, 7, 3, 1, 6, 4), (5, 2, 0, 7, 4, 1, 3, 6), (5, 2, 4, 6, 0, 3, 1, 7), (5, 2, 4, 7, 0, 3, 1, 6), (5, 2, 6, 1, 3, 7, 0, 4), (5, 2, 6, 1, 7, 4, 0, 3), (5, 2, 6, 3, 0, 7, 1, 4), (5, 3, 0, 4, 7, 1, 6, 2), (5, 3, 1, 7, 4, 6, 0, 2), (5, 3, 6, 0, 2, 4, 1, 7), (5, 3, 6, 0, 7, 1, 4, 2), (5, 7, 1, 3, 0, 6, 4, 2), (6, 0, 2, 7, 5, 3, 1, 4), (6, 1, 3, 0, 7, 4, 2, 5), (6, 1, 5, 2, 0, 3, 7, 4), (6, 2, 0, 5, 7, 4, 1, 3), (6, 2, 7, 1, 4, 0, 5, 3), (6, 3, 1, 4, 7, 0, 2, 5), (6, 3, 1, 7, 5, 0, 2, 4), (6, 4, 2, 0, 5, 7, 1, 3), (7, 1, 3, 0, 6, 4, 2, 5), (7, 1, 4, 2, 0, 6, 3, 5), (7, 2, 0, 5, 1, 4, 6, 3), (7, 3, 0, 2, 5, 1, 6, 4)]\n"
     ]
    }
   ],
   "source": [
    "print(ExhaustiveSearch().solve(ReinasN))"
   ]
  },
  {
   "cell_type": "code",
   "execution_count": 97,
   "metadata": {},
   "outputs": [
    {
     "name": "stdout",
     "output_type": "stream",
     "text": [
      "([6, 1, 3, 0, 7, 4, 2, 5], 0)\n"
     ]
    }
   ],
   "source": [
    "print(SolveRandomly().solve(ReinasN))"
   ]
  },
  {
   "cell_type": "code",
   "execution_count": 98,
   "metadata": {},
   "outputs": [
    {
     "name": "stdout",
     "output_type": "stream",
     "text": [
      "([4, 6, 0, 3, 1, 7, 5, 2], 0)\n"
     ]
    }
   ],
   "source": [
    "print(HillClimbing().solve(ReinasN))"
   ]
  },
  {
   "cell_type": "code",
   "execution_count": 99,
   "metadata": {},
   "outputs": [
    {
     "name": "stdout",
     "output_type": "stream",
     "text": [
      "([5, 6, 1, 3, 0, 7, 4, 2], 1)\n"
     ]
    }
   ],
   "source": [
    "print(Annealing().solve(ReinasN))"
   ]
  },
  {
   "cell_type": "code",
   "execution_count": 100,
   "metadata": {},
   "outputs": [
    {
     "name": "stdout",
     "output_type": "stream",
     "text": [
      "([1, 4, 6, 3, 0, 7, 5, 2], 0)\n"
     ]
    }
   ],
   "source": [
    "print(Evoling().solve(ReinasN))"
   ]
  }
 ],
 "metadata": {
  "kernelspec": {
   "display_name": "pca",
   "language": "python",
   "name": "python3"
  },
  "language_info": {
   "codemirror_mode": {
    "name": "ipython",
    "version": 3
   },
   "file_extension": ".py",
   "mimetype": "text/x-python",
   "name": "python",
   "nbconvert_exporter": "python",
   "pygments_lexer": "ipython3",
   "version": "3.12.3"
  }
 },
 "nbformat": 4,
 "nbformat_minor": 2
}
