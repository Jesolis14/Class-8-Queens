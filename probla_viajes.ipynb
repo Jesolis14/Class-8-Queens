{
 "cells": [
  {
   "cell_type": "code",
   "execution_count": 1,
   "metadata": {},
   "outputs": [],
   "source": [
    "import math\n",
    "import random\n",
    "import time"
   ]
  },
  {
   "cell_type": "code",
   "execution_count": 2,
   "metadata": {},
   "outputs": [],
   "source": [
    "class Problem:\n",
    "    \"\"\"Esta es una clase abstracta para un problema.\n",
    "    No se supone que debamos crear objetos de esta\n",
    "    clase directamente. La idea es que otras clases\n",
    "    hereden de esta para crear clases de problemas\n",
    "    más especeificos.\"\"\"\n",
    "    \n",
    "    def random_solution(self):\n",
    "        \"\"\"Este metodo sirve para dar una solución random\n",
    "        de nuestro problema.\"\"\"\n",
    "        raise NotImplementedError\n",
    "    \n",
    "    def neighbors_of(self,state):\n",
    "        \"\"\"Calcula los vecinos de un estado.\"\"\"\n",
    "        raise NotImplementedError\n",
    "    \n",
    "    def random_neighbor(self,state):\n",
    "        \"\"\"De los vecinos de un estado escoge a un \n",
    "        vecino al azar.\"\"\"\n",
    "        return self.random_choice(state)\n",
    "    \n",
    "    def crossover(self,state):\n",
    "        \"\"\"Combina a dos estados dados en uno solos\n",
    "        Eejemplo: s1 = [1,2,3,4], s2=[5,6,7,8], los \n",
    "        resultados posibles son [1,6,7,8],[1,2,7,8]\n",
    "        y [1,2,3,8]\"\"\"\n",
    "        raise NotImplementedError\n",
    "    \n",
    "    def domain_size(self):\n",
    "        \"\"\"Calcula el tamaño del dominio para asegurar\n",
    "        que prodremos calcular ciertos priceso en un tiempo\n",
    "        razonable\"\"\"\n",
    "        raise NotImplementedError\n",
    "    \n",
    "    def all_domain(self):\n",
    "        raise NotImplementedError\n",
    "    \n",
    "    def value(self, state):\n",
    "        \"\"\"En distintos problemas, cada estado tiene un valor asociado.\n",
    "        Este método sirve para obtener este valor.\"\"\"\n",
    "        raise NotImplementedError\n",
    "        "
   ]
  },
  {
   "cell_type": "code",
   "execution_count": 3,
   "metadata": {},
   "outputs": [],
   "source": [
    "# Funcion que me ayuda a calculat todos los elementos del dominio\n",
    "# Lo que hace esta funcion toma una lista, que va a contener todos los vuelos posibles\n",
    "# de n personas. x1 y x2, es el numero de vuelos disponibles para la persona n+1 de ida y vuelta\n",
    "# Entonces por cada elemento en la lista va a agregar x1*x2 elementos nuevos que son las posibles \n",
    "# nuevas coluciones para el caso n+1.\n",
    "def todo(lista,x1,x2):\n",
    "    i = 0\n",
    "    j = 0\n",
    "    lista_2 = []\n",
    "    if len(lista) != 0:\n",
    "        for element in lista:\n",
    "            for i in range(x1):\n",
    "                for j in range(x2):\n",
    "                    lista_2.append(element + [i,j])\n",
    "                    j+=1\n",
    "                i+=1\n",
    "    \n",
    "    else:\n",
    "        for i in range(x1):\n",
    "            for j in range(x2):\n",
    "                lista_2.append([i,j])\n",
    "                j+=1\n",
    "            i+=1\n",
    "    return lista_2\n"
   ]
  },
  {
   "cell_type": "code",
   "execution_count": 4,
   "metadata": {},
   "outputs": [],
   "source": [
    "class Viaje(Problem):\n",
    "    # Definimos las propiedades  de nuestra clase\n",
    "    def __init__(self,people, schedule, airports):\n",
    "        self.schedule = schedule\n",
    "        self.airports = airports\n",
    "        self.people = people\n",
    "        self.destination = 'LGA'\n",
    "        domain = []\n",
    "        family = len(people)\n",
    "        for i in range(family):\n",
    "            origin = self.people[i][1]\n",
    "            num_arr_flights = len(self.schedule[(origin,self.destination)])-1\n",
    "            num_dep_flights = len(self.schedule[(self.destination,origin)])-1\n",
    "            domain = domain + [(0,num_arr_flights)] + \\\n",
    "                              [(0,num_dep_flights)]\n",
    "        self.domain  = domain\n",
    "        \n",
    "\n",
    "    # Obtenemos el tiempo en minutos entre 2 horas dadas\n",
    "    def get_minutes(self, t):\n",
    "        x = time.strptime(t, '%H:%M')\n",
    "        h = x.tm_hour\n",
    "        m = x.tm_min\n",
    "        return 60 * h + m\n",
    "    \n",
    "    def value(self,s):\n",
    "        # contamos el precio total de cada vuelo (ida y regreso)\n",
    "        total_price = 0\n",
    "        \n",
    "        # nos interesa conocer el tiempo de llegada a NY mas tarde\n",
    "        # y el tiempo de salida de NY mas temprano.\n",
    "        latest_arrival = 0\n",
    "        earliest_departure = 24 * 60\n",
    "        earliest_arrival = 24 * 60\n",
    "        latest_departure = 0\n",
    "        \n",
    "        for i in range(len(s) // 2):\n",
    "            origin = self.people[i][1]\n",
    "            out_flight = self.schedule[(origin, self.destination)][s[2*i]]\n",
    "            ret_flight = self.schedule[(self.destination, origin)][s[2*i+1]]\n",
    "            \n",
    "            total_price += out_flight[2] # vuelo de ida\n",
    "            total_price += ret_flight[2] # vuelo de regreso\n",
    "\n",
    "            out_arrival = self.get_minutes(out_flight[1])\n",
    "            ret_departure = self.get_minutes(ret_flight[0])\n",
    "            \n",
    "            earliest_arrival = min(earliest_arrival, out_arrival)\n",
    "            latest_arrival = max(latest_arrival, out_arrival)\n",
    "            earliest_departure = min(earliest_departure, ret_departure)\n",
    "            latest_departure = max(latest_departure, ret_departure)\n",
    "        \n",
    "        if latest_arrival < earliest_departure + 60:\n",
    "            family_time = (math.e ** (earliest_departure - latest_arrival - 60))+ 1000\n",
    "        else:\n",
    "            family_time = latest_arrival - earliest_departure\n",
    "\n",
    "        out_waiting_time = latest_arrival - earliest_arrival\n",
    "        ret_waiting_time = latest_departure - earliest_departure\n",
    "        family_time = earliest_departure - latest_arrival\n",
    "        \n",
    "        return (\n",
    "            total_price + \n",
    "            out_waiting_time + \n",
    "            ret_waiting_time -\n",
    "            family_time\n",
    "        )\n",
    "    \n",
    "    # Genera un saloción random\n",
    "    def random_solution(self):\n",
    "        return [random.randint(r[0], r[1]) for r in self.domain]\n",
    "\n",
    "    \n",
    "    # pone en una lista a todos los vecinos de un estado\n",
    "    def neighbors_of(self, state):\n",
    "        neighbors = []\n",
    "        for i in range(len(self.domain)):\n",
    "            if state[i] > self.domain[i][0]:\n",
    "                neighbors.append(state[0:i] + [state[i] - 1] + state[i+1:])\n",
    "            if state[i] < self.domain[i][1]:\n",
    "                neighbors.append(state[0:i] + [state[i] + 1] + state[i+1:])\n",
    "        return neighbors\n",
    "    \n",
    "    # Combinamos dos estados \n",
    "    def crossover(self, s1, s2):\n",
    "        i = random.randint(1, len(s1)-2)\n",
    "        return s1[:i] + s2[i:]\n",
    "    \n",
    "    # Escoge a un vecino de un estado al azar.\n",
    "    def random_neighbor(self,s):\n",
    "\n",
    "        #Hacemos una lista de indices de todos los vuelos que se van a realizar.\n",
    "\n",
    "        all_flights = [i for i in range(2*len(self.people))]\n",
    "\n",
    "        # Hacemos una sublista con los indices que el estado en ese indice sea 0 o sea el mayor vuelo posible.\n",
    "\n",
    "        one_neighbor = [i for i in all_flights if s[i] == 0 or  (i % 2 == 0 and s[i] == len(self.schedule \\\n",
    "                            [(self.people[ i//2][1],self.destination)])-1) or (i % 2 == 1 and s[i] == len(self.schedule \\\n",
    "                            [(self.destination,self.people[ i//2][1])])-1)]\n",
    "        \n",
    "        # Tomo el complemento de la sdublista anterior con respecto a la primera.\n",
    "\n",
    "        two_neighbors = [item for item in all_flights if item not in one_neighbor]\n",
    "        \n",
    "        # Vamos a tener que la cantidad de vecinos que tenga el estado s es el siguiente.\n",
    "\n",
    "        num_neighbors = 2*len(two_neighbors) + len(one_neighbor)\n",
    "\n",
    "        # Tomamos un numero al azar enter 0 y 1\n",
    "\n",
    "        x = random.random()\n",
    "\n",
    "        # Como queremos hacer una random uniforme tenemos que separar el intervalo en 2 pedazos, que uno represente cuando\n",
    "        # el indice tiene 2 vecinos o uno, en este caso tomamos el caso que tenga 2 vecinos.\n",
    "\n",
    "        if x < 2*len(two_neighbors) / num_neighbors:\n",
    "            y= random.choice(two_neighbors)\n",
    "            s[y] = random.choice([s[y]+1,s[y]-1])\n",
    "\n",
    "        # Si no tiene 2 vecinos, entonce tiene un vecino.\n",
    "\n",
    "        else:\n",
    "            y = random.choice(one_neighbor)\n",
    "            if s[y] == 0:\n",
    "                s[y] = 1\n",
    "            elif y % 2 == 0:\n",
    "                s[y] = len(self.schedule[(self.people[ y//2][1],self.destination)])-2\n",
    "            else:\n",
    "                s[y] = len(self.schedule[(self.destination,self.people[ y//2][1])])-2\n",
    "        return s\n",
    "\n",
    "    # Esto es solamente para saber calcular la cardinalidad del dominio, y verificar si podemos calcular \n",
    "    # ciertas cosas con mi computadora\n",
    "    \n",
    "    def domain_size(self):\n",
    "        size = 1\n",
    "        for i in range(len(self.people)):\n",
    "            size = len(self.schedule[(self.people[ i//2][1],self.destination)]) * \\\n",
    "                   len(self.schedule[(self.destination,self.people[i//2][1])]) * size\n",
    "        if size > 1000000:\n",
    "            return True\n",
    "        else:\n",
    "            return False\n",
    "    \n",
    "    def all_domain(self):\n",
    "        while not self.domain_size:\n",
    "            all = []\n",
    "            for i in range(len(self.people)):\n",
    "                flight_person_ret = len(self.schedule[(self.people[i//2][1],self.destination)])\n",
    "                flight_person_out = len(self.schedule[(self.destination,self.people[i//2][1])])\n",
    "                all = todo(all,flight_person_ret,flight_person_out)\n",
    "            return all\n",
    "        return \"El dominio es demasiado grande\""
   ]
  },
  {
   "cell_type": "code",
   "execution_count": 5,
   "metadata": {},
   "outputs": [],
   "source": [
    "class OptimazationMethod:\n",
    "    def solve(slef, Problem):\n",
    "        raise NotImplementedError\n",
    "    \n"
   ]
  },
  {
   "cell_type": "code",
   "execution_count": 6,
   "metadata": {},
   "outputs": [],
   "source": [
    "class ExhaustiveSearch(OptimazationMethod):\n",
    "    def solve(self,Problem):\n",
    "        if Problem.domain_size():\n",
    "            return \"Impossible to calculate with this optimization method in this computer.\"\n",
    "        else:\n",
    "            solution = None\n",
    "            min_cost = float('inf')\n",
    "            for element in Problem.all_domain():\n",
    "                if Problem.value(element) < min_cost:\n",
    "                    solution = element\n",
    "                    min_cost = Problem.value(solution)\n",
    "            return solution\n"
   ]
  },
  {
   "cell_type": "code",
   "execution_count": 7,
   "metadata": {},
   "outputs": [],
   "source": [
    "class SolveRandomly(OptimazationMethod):\n",
    "    def __init__(self, repeats: int = 1000):\n",
    "        self.repeats = repeats\n",
    "        \n",
    "    def solve(self,Problem,):\n",
    "        best_cost = float('inf')\n",
    "        best_sol = None\n",
    "    \n",
    "        for _ in range(self.repeats):\n",
    "            s = Problem.random_solution()\n",
    "            c = Problem.value(s)\n",
    "            if c <= best_cost:\n",
    "                best_cost = c\n",
    "                best_sol = s\n",
    "    \n",
    "        return best_sol"
   ]
  },
  {
   "cell_type": "code",
   "execution_count": 8,
   "metadata": {},
   "outputs": [],
   "source": [
    "class HillClimbing(OptimazationMethod):\n",
    "    def solve(self, Problem):\n",
    "        solution = Problem.random_solution()\n",
    "        \n",
    "        while True:\n",
    "            neighbors = Problem.neighbors_of(solution)\n",
    "            if len(neighbors) == 0:\n",
    "                return solution\n",
    "            cost = Problem.value(solution)\n",
    "            best_neighbor = min(neighbors, key=Problem.value)\n",
    "            neighbor_cost = Problem.value(best_neighbor)\n",
    "            \n",
    "            if cost < neighbor_cost:  \n",
    "                return solution\n",
    "            \n",
    "            solution = best_neighbor"
   ]
  },
  {
   "cell_type": "code",
   "execution_count": 9,
   "metadata": {},
   "outputs": [],
   "source": [
    "class Annealing(OptimazationMethod):\n",
    "    def __init__(self,Ti=10000,Tf=.1,alpha=.95):\n",
    "        self.Ti = Ti\n",
    "        self.Tf = Tf\n",
    "        self.alpha = alpha\n",
    "\n",
    "    def solve(self,Problem):\n",
    "        solution = Problem.random_solution()\n",
    "        cost = Problem.value(solution)\n",
    "        T=self.Ti\n",
    "        while T > self.Tf:\n",
    "            if Problem.neighbors_of(solution) == 0:\n",
    "                return solution\n",
    "            neighbor = Problem.random_neighbor(solution)\n",
    "            neighbor_cost = Problem.value(neighbor)\n",
    "            diff = cost - neighbor_cost\n",
    "            if diff > 0 or random.random() < math.exp(diff / T):\n",
    "                solution = neighbor\n",
    "                cost = neighbor_cost\n",
    "            T = self.alpha*T\n",
    "        return solution\n",
    "        "
   ]
  },
  {
   "cell_type": "code",
   "execution_count": 10,
   "metadata": {},
   "outputs": [],
   "source": [
    "class Evoling(OptimazationMethod):\n",
    "    def __init__(self, pop_size=50, mut_prob=0.2, elite=0.2, epochs=100):\n",
    "        self.pop_size = pop_size\n",
    "        self.mut_prob = mut_prob\n",
    "        self.elite = elite\n",
    "        self.epochs = epochs\n",
    "\n",
    "    def solve(self, Problem):\n",
    "        pop = [Problem.random_solution() for _ in range(self.pop_size)]\n",
    "        top_elite = int(self.elite * self.pop_size)\n",
    "        \n",
    "        for epoch in range(self.epochs):\n",
    "            pop.sort(key=Problem.value)\n",
    "            best = pop[:top_elite]\n",
    "            while len(best) < self.pop_size:\n",
    "                if random.random() < self.mut_prob:\n",
    "                    best.append(Problem.random_neighbor(\n",
    "                        best[random.randint(0, top_elite-1)]\n",
    "                    ))\n",
    "                else:\n",
    "                    best.append(Problem.crossover(\n",
    "                        best[random.randint(0, top_elite-1)],\n",
    "                        best[random.randint(0, top_elite-1)],\n",
    "                    ))\n",
    "            pop = best\n",
    "        pop.sort(key=Problem.value)\n",
    "        return pop[0]"
   ]
  },
  {
   "cell_type": "code",
   "execution_count": 11,
   "metadata": {},
   "outputs": [],
   "source": [
    "people = [('Seymour', 'BOS'),\n",
    "          ('Franny' , 'DAL'),\n",
    "          ('Zooey'  , 'CAK'),\n",
    "          ('Walt'   , 'MIA'),\n",
    "          ('Buddy'  , 'ORD'),\n",
    "          ('Les'    , 'OMA')]\n"
   ]
  },
  {
   "cell_type": "code",
   "execution_count": 12,
   "metadata": {},
   "outputs": [],
   "source": [
    "AIRPORT_PATH = \"./data/airport-codes.txt\"\n",
    "SCHEDULE_PATH = \"./data/schedule.txt\""
   ]
  },
  {
   "cell_type": "code",
   "execution_count": 13,
   "metadata": {},
   "outputs": [],
   "source": [
    "def load_airports(airports):\n",
    "        airport = {}\n",
    "        with open(airports) as f:\n",
    "            f.readline()\n",
    "            for line in f:\n",
    "                cols = line.strip().split(',')\n",
    "                iata = cols[9]\n",
    "                name = cols[2]\n",
    "                region = cols[6]\n",
    "                municipality = cols[7]\n",
    "                airport[iata] = (\n",
    "                    name,\n",
    "                    region,\n",
    "                    municipality\n",
    "                )\n",
    "        return airport"
   ]
  },
  {
   "cell_type": "code",
   "execution_count": 14,
   "metadata": {},
   "outputs": [],
   "source": [
    "def load_flights(path):\n",
    "    flights = {}\n",
    "    with open(path) as f:\n",
    "        for line in f:\n",
    "            origin, dest, t_depart, t_arrive, price = line.strip().split(',')\n",
    "            flights.setdefault((origin, dest), [])\n",
    "            flights[(origin, dest)].append((t_depart, t_arrive, int(price)))\n",
    "    return flights"
   ]
  },
  {
   "cell_type": "code",
   "execution_count": 15,
   "metadata": {},
   "outputs": [],
   "source": [
    "NewYork = Viaje(people, load_flights(SCHEDULE_PATH),load_airports(AIRPORT_PATH))"
   ]
  },
  {
   "cell_type": "code",
   "execution_count": 16,
   "metadata": {},
   "outputs": [
    {
     "name": "stdout",
     "output_type": "stream",
     "text": [
      "[3, 4, 4, 4, 1, 8, 3, 4, 1, 8, 3, 6]\n"
     ]
    }
   ],
   "source": [
    "print(SolveRandomly().solve(NewYork))"
   ]
  },
  {
   "cell_type": "code",
   "execution_count": 17,
   "metadata": {},
   "outputs": [
    {
     "name": "stdout",
     "output_type": "stream",
     "text": [
      "[3, 3, 2, 2, 1, 3, 2, 1, 4, 6, 2, 6]\n"
     ]
    }
   ],
   "source": [
    "print(HillClimbing().solve(NewYork))"
   ]
  },
  {
   "cell_type": "code",
   "execution_count": 18,
   "metadata": {},
   "outputs": [
    {
     "name": "stdout",
     "output_type": "stream",
     "text": [
      "Impossible to calculate with this optimization method in this computer.\n"
     ]
    }
   ],
   "source": [
    "print(ExhaustiveSearch().solve(NewYork))"
   ]
  },
  {
   "cell_type": "code",
   "execution_count": 19,
   "metadata": {},
   "outputs": [
    {
     "name": "stdout",
     "output_type": "stream",
     "text": [
      "[1, 4, 4, 6, 1, 3, 8, 4, 7, 7, 0, 7]\n"
     ]
    }
   ],
   "source": [
    "print(Annealing().solve(NewYork))"
   ]
  },
  {
   "cell_type": "code",
   "execution_count": 20,
   "metadata": {},
   "outputs": [
    {
     "name": "stdout",
     "output_type": "stream",
     "text": [
      "[1, 6, 2, 3, 1, 5, 2, 6, 1, 3, 2, 6]\n"
     ]
    }
   ],
   "source": [
    "print(Evoling().solve(NewYork))"
   ]
  },
  {
   "cell_type": "code",
   "execution_count": 21,
   "metadata": {},
   "outputs": [
    {
     "data": {
      "text/plain": [
       "[0, 2, 3, 4, 5, 0, 7, 8, 6, 0, 1, 2]"
      ]
     },
     "execution_count": 21,
     "metadata": {},
     "output_type": "execute_result"
    }
   ],
   "source": [
    "NewYork.random_neighbor([0,2,3,4,5,0,7,8,5,0,1,2])"
   ]
  }
 ],
 "metadata": {
  "kernelspec": {
   "display_name": "venv",
   "language": "python",
   "name": "python3"
  },
  "language_info": {
   "codemirror_mode": {
    "name": "ipython",
    "version": 3
   },
   "file_extension": ".py",
   "mimetype": "text/x-python",
   "name": "python",
   "nbconvert_exporter": "python",
   "pygments_lexer": "ipython3",
   "version": "3.12.3"
  }
 },
 "nbformat": 4,
 "nbformat_minor": 2
}
