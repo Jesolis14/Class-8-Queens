{
 "cells": [
  {
   "cell_type": "code",
   "execution_count": 127,
   "metadata": {},
   "outputs": [],
   "source": [
    "import math\n",
    "import random\n",
    "import time"
   ]
  },
  {
   "cell_type": "code",
   "execution_count": 128,
   "metadata": {},
   "outputs": [],
   "source": [
    "class Problem:\n",
    "    \"\"\"Esta es una clase abstracta para un problema.\n",
    "    No se supone que debamos crear objetos de esta\n",
    "    clase directamente. La idea es que otras clases\n",
    "    hereden de esta para crear clases de problemas\n",
    "    más especeificos.\"\"\"\n",
    "    \n",
    "    def __init__(self, initial):\n",
    "        \"\"\"Esta definición es un método, es especial\n",
    "        porque comienza y termina con doble piso.\n",
    "        En Python, el método __init__ es utilizado\n",
    "        para construir objetos de la clase.\n",
    "        En este y el resto de los métodos, el primer\n",
    "        parámetro es self, y nos permite referirnos\n",
    "        al objeto sobre el cuál el método es invocado.\"\"\"\n",
    "        self.initial = initial\n",
    "    \n",
    "    def actions(self, state):\n",
    "        \"\"\"Un problema contiene un estado inicial y\n",
    "        quizá una meta en particular. El método actions\n",
    "        debe regresar las acciones que se pueden tomar\n",
    "        en el estado dado. El resultado usualmente es\n",
    "        una lista, pero si debes regresar muchas acciones,\n",
    "        considera usar yield para generarlas una a la vez.\"\"\"\n",
    "        raise NotImplementedError\n",
    "    \n",
    "    def result(self, state, action):\n",
    "        \"\"\"El método anterior, al igual que este, tiene una\n",
    "        implementación trivial. Simplemente señalamos un\n",
    "        error que indica que no hay una implementación\n",
    "        para el método. En una implementación de este método,\n",
    "        debemos regresar el estado al que llegamos después\n",
    "        de ejecutar la acción dada en el estado dado.\n",
    "        La acción debe ser una calculada por\n",
    "        self.actions(state).\"\"\"\n",
    "        \n",
    "        raise NotImplementedError\n",
    "    \n",
    "\n",
    "    def path_cost(self, c, state1, action, state2):\n",
    "        \"\"\"El método anterior si tenía una implementación útil,\n",
    "        sigue siendo general, pero podemos pensar que en muchos\n",
    "        problemas, si un estado es igual a la meta, entonces hemos\n",
    "        llegado a la meta. El método path_cost también incluye una\n",
    "        implementación: Se considera que llegar al estado 1 tiene\n",
    "        un costo c. Regresa el costo de un camino de solución que\n",
    "        llega al estado 2 desde estado 1 por medio de la acción dada.\"\"\"\n",
    "        return c + 1\n",
    "    \n",
    "    def random_solution(self):\n",
    "        raise NotImplementedError\n",
    "    \n",
    "    def neighbors_of(self,state):\n",
    "        raise NotImplementedError\n",
    "    \n",
    "    def random_neighbor(self,state):\n",
    "        return self.random_choice(state)\n",
    "    \n",
    "    def crossover(self,state):\n",
    "        raise NotImplementedError\n",
    "    \n",
    "    def domain_size(self):\n",
    "        raise NotImplementedError\n",
    "    \n",
    "    #def domain(self):\n",
    "    #    raise NotImplementedError\n",
    "    \n",
    "    def value(self, state):\n",
    "        \"\"\"En distintos problemas, cada estado tiene un valor asociado.\n",
    "        Este método sirve para obtener este valor.\"\"\"\n",
    "        raise NotImplementedError\n",
    "        "
   ]
  },
  {
   "cell_type": "code",
   "execution_count": 129,
   "metadata": {},
   "outputs": [],
   "source": [
    "class Viaje(Problem):\n",
    "    def __init__(self,people, schedule, airports):\n",
    "        self.schedule = schedule\n",
    "        self.airports = airports\n",
    "        self.people = people\n",
    "        self.destination = 'LGA'\n",
    "        domain = []\n",
    "        family = len(people)\n",
    "        for i in range(family):\n",
    "            origin = self.people[i][1]\n",
    "            num_arr_flights = len(self.schedule[(origin,self.destination)])-1\n",
    "            num_dep_flights = len(self.schedule[(self.destination,origin)])-1\n",
    "            domain = domain + [(0,num_arr_flights)] + \\\n",
    "                              [(0,num_dep_flights)]\n",
    "        self.domain  = domain\n",
    "        \n",
    "\n",
    "    def get_minutes(self, t):\n",
    "        x = time.strptime(t, '%H:%M')\n",
    "        h = x.tm_hour\n",
    "        m = x.tm_min\n",
    "        return 60 * h + m\n",
    "    \n",
    "    def value(self,s):\n",
    "        # contamos el precio total de cada vuelo (ida y regreso)\n",
    "        total_price = 0\n",
    "        \n",
    "        # nos interesa conocer el tiempo de llegada a NY mas tarde\n",
    "        # y el tiempo de salida de NY mas temprano.\n",
    "        latest_arrival = 0\n",
    "        earliest_departure = 24 * 60\n",
    "        earliest_arrival = 24 * 60\n",
    "        latest_departure = 0\n",
    "        \n",
    "        for i in range(len(s) // 2):\n",
    "            origin = self.people[i][1]\n",
    "            out_flight = self.schedule[(origin, self.destination)][s[2*i]]\n",
    "            ret_flight = self.schedule[(self.destination, origin)][s[2*i+1]]\n",
    "            \n",
    "            total_price += out_flight[2] # vuelo de ida\n",
    "            total_price += ret_flight[2] # vuelo de regreso\n",
    "\n",
    "            out_arrival = self.get_minutes(out_flight[1])\n",
    "            ret_departure = self.get_minutes(ret_flight[0])\n",
    "            \n",
    "            earliest_arrival = min(earliest_arrival, out_arrival)\n",
    "            latest_arrival = max(latest_arrival, out_arrival)\n",
    "            earliest_departure = min(earliest_departure, ret_departure)\n",
    "            latest_departure = max(latest_departure, ret_departure)\n",
    "        \n",
    "        if latest_arrival > earliest_departure + 60:\n",
    "            family_time = (math.e ** (earliest_departure - latest_arrival - 60))+ 1000\n",
    "        else:\n",
    "            family_time = latest_arrival - earliest_departure\n",
    "\n",
    "        out_waiting_time = latest_arrival - earliest_arrival\n",
    "        ret_waiting_time = latest_departure - earliest_departure\n",
    "        family_time = earliest_departure - latest_arrival\n",
    "        \n",
    "        return (\n",
    "            total_price + \n",
    "            out_waiting_time + \n",
    "            ret_waiting_time -\n",
    "            family_time\n",
    "        )\n",
    "    \n",
    "    def random_solution(self):\n",
    "        return [random.randint(r[0], r[1]) for r in self.domain]\n",
    "\n",
    "    \n",
    "    def neighbors_of(self, state):\n",
    "        neighbors = []\n",
    "        for i in range(len(self.domain)):\n",
    "            if state[i] > self.domain[i][0]:\n",
    "                neighbors.append(state[0:i] + [state[i] - 1] + state[i+1:])\n",
    "            if state[i] < self.domain[i][1]:\n",
    "                neighbors.append(state[0:i] + [state[i] + 1] + state[i+1:])\n",
    "        return neighbors\n",
    "    \n",
    "    def mutate(self, s):\n",
    "        return random.choice(self.neighbors_of(s))\n",
    "    \n",
    "    def crossover(self, s1, s2):\n",
    "        i = random.randint(1, len(s1)-2)\n",
    "        return s1[:i] + s2[i:]\n",
    "    \n",
    "    def random_neighbor(self,s):\n",
    "        all_flights = [i for i in range(2*len(self.people))]\n",
    "        one_neighbor = [i for i in all_flights if s[i] == 0 or  (i % 2 == 0 and s[i] == len(self.schedule \\\n",
    "                            [(self.people[ i//2][1],self.destination)])-1) or (i % 2 == 1 and s[i] == len(self.schedule \\\n",
    "                            [(self.destination,self.people[ i//2][1])])-1)]\n",
    "        two_neighbors = [item for item in all_flights if item not in one_neighbor]\n",
    "        \n",
    "        num_neighbors = 2*len(two_neighbors) + len(one_neighbor)\n",
    "\n",
    "        x = random.random()\n",
    "        if x < 2*len(two_neighbors) / num_neighbors:\n",
    "            y= random.choice(two_neighbors)\n",
    "            s[y] = random.choice([s[y]+1,s[y]-1])\n",
    "\n",
    "        else:\n",
    "            y = random.choice(one_neighbor)\n",
    "            if s[y] == 0:\n",
    "                s[y] = 1\n",
    "            elif y % 2 == 0:\n",
    "                s[y] = len(self.schedule[(self.people[ y//2][1],self.destination)])-2\n",
    "            else:\n",
    "                s[y] = len(self.schedule[(self.destination,self.people[ y//2][1])])-2\n",
    "        return s\n",
    "\n",
    "    def domain_size(self):\n",
    "        size = 1\n",
    "        for i in range(len(self.people)):\n",
    "            size = len(self.schedule[(self.people[ i//2][1],self.destination)]) * \\\n",
    "                   len(self.schedule[(self.people[i//2][1],self.destination)]) * size\n",
    "        return size"
   ]
  },
  {
   "cell_type": "code",
   "execution_count": 130,
   "metadata": {},
   "outputs": [],
   "source": [
    "class OptimazationMethod:\n",
    "    def solve(slef, Problem):\n",
    "        raise NotImplementedError\n",
    "    \n"
   ]
  },
  {
   "cell_type": "code",
   "execution_count": 131,
   "metadata": {},
   "outputs": [],
   "source": [
    "class ExhaustiveSearch(OptimazationMethod):\n",
    "    def solve(self,Problem):\n",
    "        if Problem.domain_size:\n",
    "            return \"Impossible to calculate with this optimization method in this computer.\"\n",
    "        else:\n",
    "            solution = None\n",
    "            min_cost = float('inf')\n",
    "            for element in Problem.domain():\n",
    "                if min(element) < min_cost:\n",
    "                    solution = element\n",
    "                    min_cost = Problem.value(solution)\n",
    "        return solution\n"
   ]
  },
  {
   "cell_type": "code",
   "execution_count": 132,
   "metadata": {},
   "outputs": [],
   "source": [
    "class SolveRandomly(OptimazationMethod):\n",
    "    def __init__(self, repeats: int = 1000):\n",
    "        self.repeats = repeats\n",
    "        \n",
    "    def solve(self,Problem,):\n",
    "        best_cost = float('inf')\n",
    "        best_sol = None\n",
    "    \n",
    "        for _ in range(self.repeats):\n",
    "            s = Problem.random_solution()\n",
    "            c = Problem.value(s)\n",
    "            if c <= best_cost:\n",
    "                best_cost = c\n",
    "                best_sol = s\n",
    "    \n",
    "        return best_sol"
   ]
  },
  {
   "cell_type": "code",
   "execution_count": 133,
   "metadata": {},
   "outputs": [],
   "source": [
    "class HillClimbing(OptimazationMethod):\n",
    "    def solve(self, Problem):\n",
    "        solution = Problem.random_solution()\n",
    "        \n",
    "        while True:\n",
    "            neighbors = Problem.neighbors_of(solution)\n",
    "            if len(neighbors) == 0:\n",
    "                return solution\n",
    "            cost = Problem.value(solution)\n",
    "            best_neighbor = min(neighbors, key=Problem.value)\n",
    "            neighbor_cost = Problem.value(best_neighbor)\n",
    "            \n",
    "            if cost < neighbor_cost:  \n",
    "                return solution\n",
    "            \n",
    "            solution = best_neighbor"
   ]
  },
  {
   "cell_type": "code",
   "execution_count": 134,
   "metadata": {},
   "outputs": [],
   "source": [
    "class Annealing(OptimazationMethod):\n",
    "    def __init__(self,Ti=10000,Tf=.1,alpha=.95):\n",
    "        self.Ti = Ti\n",
    "        self.Tf = Tf\n",
    "        self.alpha = alpha\n",
    "\n",
    "    def solve(self,Problem):\n",
    "        solution = Problem.random_solution()\n",
    "        cost = Problem.value(solution)\n",
    "        T=self.Ti\n",
    "        while T > self.Tf:\n",
    "            if Problem.neighbors_of(solution) == 0:\n",
    "                return solution\n",
    "            neighbor = Problem.random_neighbor(solution)\n",
    "            neighbor_cost = Problem.value(neighbor)\n",
    "            diff = cost - neighbor_cost\n",
    "            if diff > 0 or random.random() < math.exp(diff / T):\n",
    "                solution = neighbor\n",
    "                cost = neighbor_cost\n",
    "            T = self.alpha*T\n",
    "        return solution\n",
    "        "
   ]
  },
  {
   "cell_type": "code",
   "execution_count": 135,
   "metadata": {},
   "outputs": [],
   "source": [
    "class Evoling(OptimazationMethod):\n",
    "    def __init__(self, pop_size=50, mut_prob=0.2, elite=0.2, epochs=100):\n",
    "        self.pop_size = pop_size\n",
    "        self.mut_prob = mut_prob\n",
    "        self.elite = elite\n",
    "        self.epochs = epochs\n",
    "\n",
    "    def solve(self, Problem):\n",
    "        pop = [Problem.random_solution() for _ in range(self.pop_size)]\n",
    "        top_elite = int(self.elite * self.pop_size)\n",
    "        \n",
    "        for epoch in range(self.epochs):\n",
    "            pop.sort(key=Problem.value)\n",
    "            best = pop[:top_elite]\n",
    "            while len(best) < self.pop_size:\n",
    "                if random.random() < self.mut_prob:\n",
    "                    best.append(Problem.random_neighbor(\n",
    "                        best[random.randint(0, top_elite-1)]\n",
    "                    ))\n",
    "                else:\n",
    "                    best.append(Problem.crossover(\n",
    "                        best[random.randint(0, top_elite-1)],\n",
    "                        best[random.randint(0, top_elite-1)],\n",
    "                    ))\n",
    "            pop = best\n",
    "        pop.sort(key=Problem.value)\n",
    "        return pop[0]"
   ]
  },
  {
   "cell_type": "code",
   "execution_count": 136,
   "metadata": {},
   "outputs": [],
   "source": [
    "people = [('Seymour', 'BOS'),\n",
    "          ('Franny' , 'DAL'),\n",
    "          ('Zooey'  , 'CAK'),\n",
    "          ('Walt'   , 'MIA'),\n",
    "          ('Buddy'  , 'ORD'),\n",
    "          ('Les'    , 'OMA')]"
   ]
  },
  {
   "cell_type": "code",
   "execution_count": 137,
   "metadata": {},
   "outputs": [],
   "source": [
    "AIRPORT_PATH = \"./data/airport-codes.txt\"\n",
    "SCHEDULE_PATH = \"./data/schedule.txt\""
   ]
  },
  {
   "cell_type": "code",
   "execution_count": 138,
   "metadata": {},
   "outputs": [],
   "source": [
    "def load_airports(airports):\n",
    "        airport = {}\n",
    "        with open(airports) as f:\n",
    "            f.readline()\n",
    "            for line in f:\n",
    "                cols = line.strip().split(',')\n",
    "                iata = cols[9]\n",
    "                name = cols[2]\n",
    "                region = cols[6]\n",
    "                municipality = cols[7]\n",
    "                airport[iata] = (\n",
    "                    name,\n",
    "                    region,\n",
    "                    municipality\n",
    "                )\n",
    "        return airport"
   ]
  },
  {
   "cell_type": "code",
   "execution_count": 139,
   "metadata": {},
   "outputs": [],
   "source": [
    "def load_flights(path):\n",
    "    flights = {}\n",
    "    with open(path) as f:\n",
    "        for line in f:\n",
    "            origin, dest, t_depart, t_arrive, price = line.strip().split(',')\n",
    "            flights.setdefault((origin, dest), [])\n",
    "            flights[(origin, dest)].append((t_depart, t_arrive, int(price)))\n",
    "    return flights"
   ]
  },
  {
   "cell_type": "code",
   "execution_count": 140,
   "metadata": {},
   "outputs": [],
   "source": [
    "NewYork = Viaje(people, load_flights(SCHEDULE_PATH),load_airports(AIRPORT_PATH))"
   ]
  },
  {
   "cell_type": "code",
   "execution_count": 141,
   "metadata": {},
   "outputs": [
    {
     "name": "stdout",
     "output_type": "stream",
     "text": [
      "[1, 4, 1, 5, 3, 7, 3, 8, 4, 8, 2, 6]\n"
     ]
    }
   ],
   "source": [
    "print(SolveRandomly().solve(NewYork))"
   ]
  },
  {
   "cell_type": "code",
   "execution_count": 142,
   "metadata": {},
   "outputs": [
    {
     "name": "stdout",
     "output_type": "stream",
     "text": [
      "[4, 6, 3, 5, 5, 3, 3, 9, 5, 3, 6, 6]\n"
     ]
    }
   ],
   "source": [
    "print(HillClimbing().solve(NewYork))"
   ]
  },
  {
   "cell_type": "code",
   "execution_count": 143,
   "metadata": {},
   "outputs": [
    {
     "name": "stdout",
     "output_type": "stream",
     "text": [
      "Impossible to calculate with this optimization method in this computer.\n"
     ]
    }
   ],
   "source": [
    "print(ExhaustiveSearch().solve(NewYork))"
   ]
  },
  {
   "cell_type": "code",
   "execution_count": 167,
   "metadata": {},
   "outputs": [
    {
     "name": "stdout",
     "output_type": "stream",
     "text": [
      "[3, 9, 9, 4, 6, 4, 7, 3, 9, 1, 0, 7]\n"
     ]
    }
   ],
   "source": [
    "print(Annealing().solve(NewYork))"
   ]
  },
  {
   "cell_type": "code",
   "execution_count": 145,
   "metadata": {},
   "outputs": [
    {
     "name": "stdout",
     "output_type": "stream",
     "text": [
      "[3, 6, 0, 7, 1, 6, 2, 6, 4, 7, 2, 7]\n"
     ]
    }
   ],
   "source": [
    "print(Evoling().solve(NewYork))"
   ]
  },
  {
   "cell_type": "code",
   "execution_count": 202,
   "metadata": {},
   "outputs": [
    {
     "data": {
      "text/plain": [
       "[0, 2, 3, 4, 5, 0, 7, 9, 5, 0, 1, 2]"
      ]
     },
     "execution_count": 202,
     "metadata": {},
     "output_type": "execute_result"
    }
   ],
   "source": [
    "NewYork.random_neighbor([0,2,3,4,5,0,7,8,5,0,1,2])"
   ]
  }
 ],
 "metadata": {
  "kernelspec": {
   "display_name": "venv",
   "language": "python",
   "name": "python3"
  },
  "language_info": {
   "codemirror_mode": {
    "name": "ipython",
    "version": 3
   },
   "file_extension": ".py",
   "mimetype": "text/x-python",
   "name": "python",
   "nbconvert_exporter": "python",
   "pygments_lexer": "ipython3",
   "version": "3.12.3"
  }
 },
 "nbformat": 4,
 "nbformat_minor": 2
}
